{
 "cells": [
  {
   "cell_type": "code",
   "execution_count": 2,
   "metadata": {},
   "outputs": [],
   "source": [
    "import requests\n",
    "import json\n",
    "import pandas as pd\n",
    "import plotly.graph_objects as go"
   ]
  },
  {
   "cell_type": "markdown",
   "metadata": {},
   "source": [
    "## Coin API\n",
    "- Coin API is a high-quality, one-stop-solution market data provider for cryptocurrency markets.\n",
    "- https://docs.coinapi.io/?python#timeseries-data-get"
   ]
  },
  {
   "cell_type": "code",
   "execution_count": 3,
   "metadata": {},
   "outputs": [],
   "source": [
    "#url = 'https://rest.coinapi.io/v1/ohlcv/BITSTAMP_SPOT_BCH_USD/latest?period_id=1DAY'\n",
    "with open('./coin_api_key.json') as file:\n",
    "    key = json.load(file).get('key')\n",
    "apikey=key"
   ]
  },
  {
   "cell_type": "code",
   "execution_count": 4,
   "metadata": {},
   "outputs": [],
   "source": [
    "import json"
   ]
  },
  {
   "cell_type": "code",
   "execution_count": 5,
   "metadata": {},
   "outputs": [],
   "source": [
    "url = 'https://rest.coinapi.io/v1/ohlcv/BTC/USD/latest'\n",
    "parameter = {\n",
    "    'period_id': '1HRS'\n",
    "}\n",
    "headers = {'X-CoinAPI-Key': apikey}"
   ]
  },
  {
   "cell_type": "code",
   "execution_count": 6,
   "metadata": {},
   "outputs": [
    {
     "data": {
      "text/plain": [
       "<Response [200]>"
      ]
     },
     "execution_count": 6,
     "metadata": {},
     "output_type": "execute_result"
    }
   ],
   "source": [
    "response = requests.get(url, headers=headers, params=parameter)\n",
    "response"
   ]
  },
  {
   "cell_type": "code",
   "execution_count": 7,
   "metadata": {},
   "outputs": [
    {
     "data": {
      "text/plain": [
       "[{'time_period_start': '2022-05-24T16:00:00.0000000Z',\n",
       "  'time_period_end': '2022-05-24T17:00:00.0000000Z',\n",
       "  'time_open': '2022-05-24T16:00:00.2252000Z',\n",
       "  'time_close': '2022-05-24T16:11:04.5410040Z',\n",
       "  'price_open': 29347.27,\n",
       "  'price_high': 29505.0,\n",
       "  'price_low': 29343.37,\n",
       "  'price_close': 29488.3,\n",
       "  'volume_traded': 300.66444114,\n",
       "  'trades_count': 6938},\n",
       " {'time_period_start': '2022-05-24T15:00:00.0000000Z',\n",
       "  'time_period_end': '2022-05-24T16:00:00.0000000Z',\n",
       "  'time_open': '2022-05-24T15:00:00.1563500Z',\n",
       "  'time_close': '2022-05-24T15:59:59.6427380Z',\n",
       "  'price_open': 29035.55,\n",
       "  'price_high': 29631.9,\n",
       "  'price_low': 28934.93,\n",
       "  'price_close': 29347.4,\n",
       "  'volume_traded': 2542.78168341,\n",
       "  'trades_count': 45634},\n",
       " {'time_period_start': '2022-05-24T14:00:00.0000000Z',\n",
       "  'time_period_end': '2022-05-24T15:00:00.0000000Z',\n",
       "  'time_open': '2022-05-24T14:00:00.3470160Z',\n",
       "  'time_close': '2022-05-24T14:59:59.8789040Z',\n",
       "  'price_open': 28918.27,\n",
       "  'price_high': 29105.6,\n",
       "  'price_low': 28611.0,\n",
       "  'price_close': 29035.54,\n",
       "  'volume_traded': 3817.76774854,\n",
       "  'trades_count': 67390},\n",
       " {'time_period_start': '2022-05-24T13:00:00.0000000Z',\n",
       "  'time_period_end': '2022-05-24T14:00:00.0000000Z',\n",
       "  'time_open': '2022-05-24T13:00:01.0471290Z',\n",
       "  'time_close': '2022-05-24T13:59:59.8396020Z',\n",
       "  'price_open': 29218.57,\n",
       "  'price_high': 29301.03,\n",
       "  'price_low': 28863.63,\n",
       "  'price_close': 28921.74,\n",
       "  'volume_traded': 1972.96038976,\n",
       "  'trades_count': 41490},\n",
       " {'time_period_start': '2022-05-24T12:00:00.0000000Z',\n",
       "  'time_period_end': '2022-05-24T13:00:00.0000000Z',\n",
       "  'time_open': '2022-05-24T12:00:00.4699840Z',\n",
       "  'time_close': '2022-05-24T12:59:59.5560160Z',\n",
       "  'price_open': 29260.49,\n",
       "  'price_high': 29334.93,\n",
       "  'price_low': 29097.56,\n",
       "  'price_close': 29220.61,\n",
       "  'volume_traded': 767.87522032,\n",
       "  'trades_count': 20531},\n",
       " {'time_period_start': '2022-05-24T11:00:00.0000000Z',\n",
       "  'time_period_end': '2022-05-24T12:00:00.0000000Z',\n",
       "  'time_open': '2022-05-24T11:00:00.0220750Z',\n",
       "  'time_close': '2022-05-24T11:59:59.5519460Z',\n",
       "  'price_open': 29319.15,\n",
       "  'price_high': 29405.38,\n",
       "  'price_low': 29202.197,\n",
       "  'price_close': 29260.49,\n",
       "  'volume_traded': 780.83231408,\n",
       "  'trades_count': 18470},\n",
       " {'time_period_start': '2022-05-24T10:00:00.0000000Z',\n",
       "  'time_period_end': '2022-05-24T11:00:00.0000000Z',\n",
       "  'time_open': '2022-05-24T10:00:00.1113670Z',\n",
       "  'time_close': '2022-05-24T10:59:59.9945780Z',\n",
       "  'price_open': 29310.79,\n",
       "  'price_high': 29344.33,\n",
       "  'price_low': 29221.5,\n",
       "  'price_close': 29319.15,\n",
       "  'volume_traded': 728.31775403,\n",
       "  'trades_count': 17092},\n",
       " {'time_period_start': '2022-05-24T09:00:00.0000000Z',\n",
       "  'time_period_end': '2022-05-24T10:00:00.0000000Z',\n",
       "  'time_open': '2022-05-24T09:00:00.0913730Z',\n",
       "  'time_close': '2022-05-24T09:59:59.5568970Z',\n",
       "  'price_open': 29120.41,\n",
       "  'price_high': 29332.03,\n",
       "  'price_low': 29080.77,\n",
       "  'price_close': 29310.79,\n",
       "  'volume_traded': 667.28519574,\n",
       "  'trades_count': 18240},\n",
       " {'time_period_start': '2022-05-24T08:00:00.0000000Z',\n",
       "  'time_period_end': '2022-05-24T09:00:00.0000000Z',\n",
       "  'time_open': '2022-05-24T08:00:00.4051950Z',\n",
       "  'time_close': '2022-05-24T08:59:58.5595790Z',\n",
       "  'price_open': 29369.23,\n",
       "  'price_high': 29379.24,\n",
       "  'price_low': 29113.12,\n",
       "  'price_close': 29120.67,\n",
       "  'volume_traded': 638.93146636,\n",
       "  'trades_count': 16438},\n",
       " {'time_period_start': '2022-05-24T07:00:00.0000000Z',\n",
       "  'time_period_end': '2022-05-24T08:00:00.0000000Z',\n",
       "  'time_open': '2022-05-24T07:00:00.1760790Z',\n",
       "  'time_close': '2022-05-24T07:59:59.9402130Z',\n",
       "  'price_open': 29311.93,\n",
       "  'price_high': 29405.38,\n",
       "  'price_low': 29281.99,\n",
       "  'price_close': 29372.23,\n",
       "  'volume_traded': 699.14424513,\n",
       "  'trades_count': 14461},\n",
       " {'time_period_start': '2022-05-24T06:00:00.0000000Z',\n",
       "  'time_period_end': '2022-05-24T07:00:00.0000000Z',\n",
       "  'time_open': '2022-05-24T06:00:00.0520470Z',\n",
       "  'time_close': '2022-05-24T06:59:58.8290000Z',\n",
       "  'price_open': 29318.71,\n",
       "  'price_high': 29392.5,\n",
       "  'price_low': 29209.5,\n",
       "  'price_close': 29315.0,\n",
       "  'volume_traded': 700.47953895,\n",
       "  'trades_count': 15408},\n",
       " {'time_period_start': '2022-05-24T05:00:00.0000000Z',\n",
       "  'time_period_end': '2022-05-24T06:00:00.0000000Z',\n",
       "  'time_open': '2022-05-24T05:00:00.0630420Z',\n",
       "  'time_close': '2022-05-24T05:59:59.7838780Z',\n",
       "  'price_open': 29324.32,\n",
       "  'price_high': 29402.0,\n",
       "  'price_low': 29279.01,\n",
       "  'price_close': 29318.71,\n",
       "  'volume_traded': 691.57047658,\n",
       "  'trades_count': 13649},\n",
       " {'time_period_start': '2022-05-24T04:00:00.0000000Z',\n",
       "  'time_period_end': '2022-05-24T05:00:00.0000000Z',\n",
       "  'time_open': '2022-05-24T04:00:00.7643650Z',\n",
       "  'time_close': '2022-05-24T04:59:59.7453710Z',\n",
       "  'price_open': 29275.11,\n",
       "  'price_high': 29408.21,\n",
       "  'price_low': 29211.4,\n",
       "  'price_close': 29323.54,\n",
       "  'volume_traded': 644.0676173,\n",
       "  'trades_count': 17038},\n",
       " {'time_period_start': '2022-05-24T03:00:00.0000000Z',\n",
       "  'time_period_end': '2022-05-24T04:00:00.0000000Z',\n",
       "  'time_open': '2022-05-24T03:00:00.3940820Z',\n",
       "  'time_close': '2022-05-24T03:59:59.3710000Z',\n",
       "  'price_open': 29243.51,\n",
       "  'price_high': 29306.83,\n",
       "  'price_low': 29210.5,\n",
       "  'price_close': 29278.8,\n",
       "  'volume_traded': 547.88407308,\n",
       "  'trades_count': 16288},\n",
       " {'time_period_start': '2022-05-24T02:00:00.0000000Z',\n",
       "  'time_period_end': '2022-05-24T03:00:00.0000000Z',\n",
       "  'time_open': '2022-05-24T02:00:00.1857410Z',\n",
       "  'time_close': '2022-05-24T02:59:59.3390000Z',\n",
       "  'price_open': 29200.17,\n",
       "  'price_high': 29292.5,\n",
       "  'price_low': 29144.38,\n",
       "  'price_close': 29249.5,\n",
       "  'volume_traded': 653.76047237,\n",
       "  'trades_count': 19857},\n",
       " {'time_period_start': '2022-05-24T01:00:00.0000000Z',\n",
       "  'time_period_end': '2022-05-24T02:00:00.0000000Z',\n",
       "  'time_open': '2022-05-24T01:00:00.3606660Z',\n",
       "  'time_close': '2022-05-24T01:59:59.1827830Z',\n",
       "  'price_open': 29113.72,\n",
       "  'price_high': 29221.08,\n",
       "  'price_low': 29069.0,\n",
       "  'price_close': 29200.15,\n",
       "  'volume_traded': 567.76830129,\n",
       "  'trades_count': 20131},\n",
       " {'time_period_start': '2022-05-24T00:00:00.0000000Z',\n",
       "  'time_period_end': '2022-05-24T01:00:00.0000000Z',\n",
       "  'time_open': '2022-05-24T00:00:00.2388120Z',\n",
       "  'time_close': '2022-05-24T00:59:59.9528910Z',\n",
       "  'price_open': 29079.31,\n",
       "  'price_high': 29232.97,\n",
       "  'price_low': 29022.66,\n",
       "  'price_close': 29113.89,\n",
       "  'volume_traded': 738.42078299,\n",
       "  'trades_count': 24610},\n",
       " {'time_period_start': '2022-05-23T23:00:00.0000000Z',\n",
       "  'time_period_end': '2022-05-24T00:00:00.0000000Z',\n",
       "  'time_open': '2022-05-23T23:00:00.1559110Z',\n",
       "  'time_close': '2022-05-23T23:59:59.9687820Z',\n",
       "  'price_open': 29181.26,\n",
       "  'price_high': 29188.8,\n",
       "  'price_low': 28829.5,\n",
       "  'price_close': 29082.52,\n",
       "  'volume_traded': 1395.51287898,\n",
       "  'trades_count': 33954},\n",
       " {'time_period_start': '2022-05-23T22:00:00.0000000Z',\n",
       "  'time_period_end': '2022-05-23T23:00:00.0000000Z',\n",
       "  'time_open': '2022-05-23T22:00:00.9813500Z',\n",
       "  'time_close': '2022-05-23T22:59:59.6150000Z',\n",
       "  'price_open': 29312.28,\n",
       "  'price_high': 29312.28,\n",
       "  'price_low': 29000.0,\n",
       "  'price_close': 29184.5,\n",
       "  'volume_traded': 1733.95323251,\n",
       "  'trades_count': 34789},\n",
       " {'time_period_start': '2022-05-23T21:00:00.0000000Z',\n",
       "  'time_period_end': '2022-05-23T22:00:00.0000000Z',\n",
       "  'time_open': '2022-05-23T21:00:00.0010000Z',\n",
       "  'time_close': '2022-05-23T21:59:59.8992690Z',\n",
       "  'price_open': 29323.82,\n",
       "  'price_high': 29468.08,\n",
       "  'price_low': 29247.99,\n",
       "  'price_close': 29317.68,\n",
       "  'volume_traded': 1203.26984477,\n",
       "  'trades_count': 25841},\n",
       " {'time_period_start': '2022-05-23T20:00:00.0000000Z',\n",
       "  'time_period_end': '2022-05-23T21:00:00.0000000Z',\n",
       "  'time_open': '2022-05-23T20:00:00.0180000Z',\n",
       "  'time_close': '2022-05-23T20:59:59.4442900Z',\n",
       "  'price_open': 29048.0,\n",
       "  'price_high': 29440.0,\n",
       "  'price_low': 29000.0,\n",
       "  'price_close': 29315.4,\n",
       "  'volume_traded': 1859.98318188,\n",
       "  'trades_count': 38227},\n",
       " {'time_period_start': '2022-05-23T19:00:00.0000000Z',\n",
       "  'time_period_end': '2022-05-23T20:00:00.0000000Z',\n",
       "  'time_open': '2022-05-23T19:00:00.2690000Z',\n",
       "  'time_close': '2022-05-23T19:59:59.9998710Z',\n",
       "  'price_open': 29847.54,\n",
       "  'price_high': 29850.23,\n",
       "  'price_low': 29034.06,\n",
       "  'price_close': 29061.14,\n",
       "  'volume_traded': 5094.76493765,\n",
       "  'trades_count': 71872},\n",
       " {'time_period_start': '2022-05-23T18:00:00.0000000Z',\n",
       "  'time_period_end': '2022-05-23T19:00:00.0000000Z',\n",
       "  'time_open': '2022-05-23T18:00:00.0367040Z',\n",
       "  'time_close': '2022-05-23T18:59:59.5513180Z',\n",
       "  'price_open': 30066.89,\n",
       "  'price_high': 30137.94,\n",
       "  'price_low': 29777.78,\n",
       "  'price_close': 29839.07,\n",
       "  'volume_traded': 1533.09063708,\n",
       "  'trades_count': 34405},\n",
       " {'time_period_start': '2022-05-23T17:00:00.0000000Z',\n",
       "  'time_period_end': '2022-05-23T18:00:00.0000000Z',\n",
       "  'time_open': '2022-05-23T17:00:00.2706890Z',\n",
       "  'time_close': '2022-05-23T17:59:59.8945390Z',\n",
       "  'price_open': 30217.26,\n",
       "  'price_high': 30235.74,\n",
       "  'price_low': 29986.79,\n",
       "  'price_close': 30066.89,\n",
       "  'volume_traded': 1372.0088606,\n",
       "  'trades_count': 33966},\n",
       " {'time_period_start': '2022-05-23T16:00:00.0000000Z',\n",
       "  'time_period_end': '2022-05-23T17:00:00.0000000Z',\n",
       "  'time_open': '2022-05-23T16:00:00.7883680Z',\n",
       "  'time_close': '2022-05-23T16:59:59.8677410Z',\n",
       "  'price_open': 30336.74,\n",
       "  'price_high': 30499.0,\n",
       "  'price_low': 30127.42,\n",
       "  'price_close': 30218.66,\n",
       "  'volume_traded': 1648.97782894,\n",
       "  'trades_count': 32045},\n",
       " {'time_period_start': '2022-05-23T15:00:00.0000000Z',\n",
       "  'time_period_end': '2022-05-23T16:00:00.0000000Z',\n",
       "  'time_open': '2022-05-23T15:00:00.1335740Z',\n",
       "  'time_close': '2022-05-23T15:59:59.8100620Z',\n",
       "  'price_open': 30226.58,\n",
       "  'price_high': 30451.95,\n",
       "  'price_low': 30198.81,\n",
       "  'price_close': 30336.89,\n",
       "  'volume_traded': 1564.87136136,\n",
       "  'trades_count': 31517},\n",
       " {'time_period_start': '2022-05-23T14:00:00.0000000Z',\n",
       "  'time_period_end': '2022-05-23T15:00:00.0000000Z',\n",
       "  'time_open': '2022-05-23T14:00:00.0884630Z',\n",
       "  'time_close': '2022-05-23T14:59:59.9620790Z',\n",
       "  'price_open': 30291.09,\n",
       "  'price_high': 30320.052,\n",
       "  'price_low': 29908.32,\n",
       "  'price_close': 30224.99,\n",
       "  'volume_traded': 2591.03540076,\n",
       "  'trades_count': 50733},\n",
       " {'time_period_start': '2022-05-23T13:00:00.0000000Z',\n",
       "  'time_period_end': '2022-05-23T14:00:00.0000000Z',\n",
       "  'time_open': '2022-05-23T13:00:00.8270000Z',\n",
       "  'time_close': '2022-05-23T13:59:59.8670000Z',\n",
       "  'price_open': 30361.0,\n",
       "  'price_high': 30559.3,\n",
       "  'price_low': 30117.8,\n",
       "  'price_close': 30300.1,\n",
       "  'volume_traded': 2940.97351068,\n",
       "  'trades_count': 52384},\n",
       " {'time_period_start': '2022-05-23T12:00:00.0000000Z',\n",
       "  'time_period_end': '2022-05-23T13:00:00.0000000Z',\n",
       "  'time_open': '2022-05-23T12:00:00.0771120Z',\n",
       "  'time_close': '2022-05-23T12:59:59.7658360Z',\n",
       "  'price_open': 30366.32,\n",
       "  'price_high': 30602.6,\n",
       "  'price_low': 30315.01,\n",
       "  'price_close': 30352.69,\n",
       "  'volume_traded': 1389.46182064,\n",
       "  'trades_count': 27661},\n",
       " {'time_period_start': '2022-05-23T11:00:00.0000000Z',\n",
       "  'time_period_end': '2022-05-23T12:00:00.0000000Z',\n",
       "  'time_open': '2022-05-23T11:00:00.0938570Z',\n",
       "  'time_close': '2022-05-23T11:59:59.5751710Z',\n",
       "  'price_open': 30460.29,\n",
       "  'price_high': 30598.42,\n",
       "  'price_low': 30288.5,\n",
       "  'price_close': 30366.32,\n",
       "  'volume_traded': 989.05255625,\n",
       "  'trades_count': 20928},\n",
       " {'time_period_start': '2022-05-23T10:00:00.0000000Z',\n",
       "  'time_period_end': '2022-05-23T11:00:00.0000000Z',\n",
       "  'time_open': '2022-05-23T10:00:01.7147700Z',\n",
       "  'time_close': '2022-05-23T10:59:59.9992490Z',\n",
       "  'price_open': 30409.1,\n",
       "  'price_high': 30534.0,\n",
       "  'price_low': 30379.17,\n",
       "  'price_close': 30457.27,\n",
       "  'volume_traded': 904.65785805,\n",
       "  'trades_count': 17539},\n",
       " {'time_period_start': '2022-05-23T09:00:00.0000000Z',\n",
       "  'time_period_end': '2022-05-23T10:00:00.0000000Z',\n",
       "  'time_open': '2022-05-23T09:00:00.1864750Z',\n",
       "  'time_close': '2022-05-23T09:59:59.8006920Z',\n",
       "  'price_open': 30316.13,\n",
       "  'price_high': 30489.1,\n",
       "  'price_low': 30263.09,\n",
       "  'price_close': 30409.1,\n",
       "  'volume_traded': 843.11311766,\n",
       "  'trades_count': 19444},\n",
       " {'time_period_start': '2022-05-23T08:00:00.0000000Z',\n",
       "  'time_period_end': '2022-05-23T09:00:00.0000000Z',\n",
       "  'time_open': '2022-05-23T08:00:00.0762510Z',\n",
       "  'time_close': '2022-05-23T08:59:59.4611840Z',\n",
       "  'price_open': 30426.07,\n",
       "  'price_high': 30489.6,\n",
       "  'price_low': 30250.1,\n",
       "  'price_close': 30316.14,\n",
       "  'volume_traded': 987.16293737,\n",
       "  'trades_count': 19271},\n",
       " {'time_period_start': '2022-05-23T07:00:00.0000000Z',\n",
       "  'time_period_end': '2022-05-23T08:00:00.0000000Z',\n",
       "  'time_open': '2022-05-23T07:00:00.0590810Z',\n",
       "  'time_close': '2022-05-23T07:59:59.7790000Z',\n",
       "  'price_open': 30451.53,\n",
       "  'price_high': 30642.24,\n",
       "  'price_low': 30380.45,\n",
       "  'price_close': 30426.1,\n",
       "  'volume_traded': 1067.54386356,\n",
       "  'trades_count': 21943},\n",
       " {'time_period_start': '2022-05-23T06:00:00.0000000Z',\n",
       "  'time_period_end': '2022-05-23T07:00:00.0000000Z',\n",
       "  'time_open': '2022-05-23T06:00:00.0228900Z',\n",
       "  'time_close': '2022-05-23T06:59:59.7600000Z',\n",
       "  'price_open': 30270.31,\n",
       "  'price_high': 30621.5,\n",
       "  'price_low': 30251.98,\n",
       "  'price_close': 30460.0,\n",
       "  'volume_traded': 1284.7331836,\n",
       "  'trades_count': 23663},\n",
       " {'time_period_start': '2022-05-23T05:00:00.0000000Z',\n",
       "  'time_period_end': '2022-05-23T06:00:00.0000000Z',\n",
       "  'time_open': '2022-05-23T05:00:00.1777490Z',\n",
       "  'time_close': '2022-05-23T05:59:57.9055480Z',\n",
       "  'price_open': 30095.11,\n",
       "  'price_high': 30297.56,\n",
       "  'price_low': 30070.36,\n",
       "  'price_close': 30270.32,\n",
       "  'volume_traded': 698.07622763,\n",
       "  'trades_count': 15913},\n",
       " {'time_period_start': '2022-05-23T04:00:00.0000000Z',\n",
       "  'time_period_end': '2022-05-23T05:00:00.0000000Z',\n",
       "  'time_open': '2022-05-23T04:00:00.6036410Z',\n",
       "  'time_close': '2022-05-23T04:59:59.3467560Z',\n",
       "  'price_open': 30134.07,\n",
       "  'price_high': 30214.13,\n",
       "  'price_low': 30080.78,\n",
       "  'price_close': 30095.11,\n",
       "  'volume_traded': 590.07880184,\n",
       "  'trades_count': 14633},\n",
       " {'time_period_start': '2022-05-23T03:00:00.0000000Z',\n",
       "  'time_period_end': '2022-05-23T04:00:00.0000000Z',\n",
       "  'time_open': '2022-05-23T03:00:00.5160000Z',\n",
       "  'time_close': '2022-05-23T03:59:59.4240000Z',\n",
       "  'price_open': 30094.53,\n",
       "  'price_high': 30182.29,\n",
       "  'price_low': 30051.84,\n",
       "  'price_close': 30137.6,\n",
       "  'volume_traded': 752.31177001,\n",
       "  'trades_count': 16190},\n",
       " {'time_period_start': '2022-05-23T02:00:00.0000000Z',\n",
       "  'time_period_end': '2022-05-23T03:00:00.0000000Z',\n",
       "  'time_open': '2022-05-23T02:00:00.1866110Z',\n",
       "  'time_close': '2022-05-23T02:59:59.5397550Z',\n",
       "  'price_open': 30182.08,\n",
       "  'price_high': 30184.0,\n",
       "  'price_low': 29962.2,\n",
       "  'price_close': 30086.83,\n",
       "  'volume_traded': 1054.83184869,\n",
       "  'trades_count': 20866},\n",
       " {'time_period_start': '2022-05-23T01:00:00.0000000Z',\n",
       "  'time_period_end': '2022-05-23T02:00:00.0000000Z',\n",
       "  'time_open': '2022-05-23T01:00:01.0557640Z',\n",
       "  'time_close': '2022-05-23T01:59:59.8260920Z',\n",
       "  'price_open': 30242.55,\n",
       "  'price_high': 30260.08,\n",
       "  'price_low': 30126.76,\n",
       "  'price_close': 30182.03,\n",
       "  'volume_traded': 887.37594441,\n",
       "  'trades_count': 19840},\n",
       " {'time_period_start': '2022-05-23T00:00:00.0000000Z',\n",
       "  'time_period_end': '2022-05-23T01:00:00.0000000Z',\n",
       "  'time_open': '2022-05-23T00:00:00.4947490Z',\n",
       "  'time_close': '2022-05-23T00:59:59.7590000Z',\n",
       "  'price_open': 30258.04,\n",
       "  'price_high': 30429.73,\n",
       "  'price_low': 30158.45,\n",
       "  'price_close': 30250.9,\n",
       "  'volume_traded': 1000.30247563,\n",
       "  'trades_count': 25632},\n",
       " {'time_period_start': '2022-05-22T23:00:00.0000000Z',\n",
       "  'time_period_end': '2022-05-23T00:00:00.0000000Z',\n",
       "  'time_open': '2022-05-22T23:00:00.1927870Z',\n",
       "  'time_close': '2022-05-22T23:59:58.6876510Z',\n",
       "  'price_open': 30246.02,\n",
       "  'price_high': 30459.5,\n",
       "  'price_low': 30242.7,\n",
       "  'price_close': 30260.87,\n",
       "  'volume_traded': 1095.53041887,\n",
       "  'trades_count': 24414},\n",
       " {'time_period_start': '2022-05-22T22:00:00.0000000Z',\n",
       "  'time_period_end': '2022-05-22T23:00:00.0000000Z',\n",
       "  'time_open': '2022-05-22T22:00:00.0020000Z',\n",
       "  'time_close': '2022-05-22T22:59:59.7241300Z',\n",
       "  'price_open': 29988.9,\n",
       "  'price_high': 30500.0,\n",
       "  'price_low': 29976.6,\n",
       "  'price_close': 30246.76,\n",
       "  'volume_traded': 2100.32154088,\n",
       "  'trades_count': 36126},\n",
       " {'time_period_start': '2022-05-22T21:00:00.0000000Z',\n",
       "  'time_period_end': '2022-05-22T22:00:00.0000000Z',\n",
       "  'time_open': '2022-05-22T21:00:00.2228010Z',\n",
       "  'time_close': '2022-05-22T21:59:59.2608460Z',\n",
       "  'price_open': 29905.84,\n",
       "  'price_high': 30054.88,\n",
       "  'price_low': 29867.65,\n",
       "  'price_close': 29976.6,\n",
       "  'volume_traded': 589.5424532,\n",
       "  'trades_count': 20002},\n",
       " {'time_period_start': '2022-05-22T20:00:00.0000000Z',\n",
       "  'time_period_end': '2022-05-22T21:00:00.0000000Z',\n",
       "  'time_open': '2022-05-22T20:00:00.0243540Z',\n",
       "  'time_close': '2022-05-22T20:59:59.5875950Z',\n",
       "  'price_open': 29897.48,\n",
       "  'price_high': 30070.0,\n",
       "  'price_low': 29875.0,\n",
       "  'price_close': 29905.84,\n",
       "  'volume_traded': 476.1682365,\n",
       "  'trades_count': 17632},\n",
       " {'time_period_start': '2022-05-22T19:00:00.0000000Z',\n",
       "  'time_period_end': '2022-05-22T20:00:00.0000000Z',\n",
       "  'time_open': '2022-05-22T19:00:00.1135900Z',\n",
       "  'time_close': '2022-05-22T19:59:59.2380000Z',\n",
       "  'price_open': 29995.42,\n",
       "  'price_high': 30054.85,\n",
       "  'price_low': 29868.36,\n",
       "  'price_close': 29902.45,\n",
       "  'volume_traded': 436.96953098,\n",
       "  'trades_count': 18641},\n",
       " {'time_period_start': '2022-05-22T18:00:00.0000000Z',\n",
       "  'time_period_end': '2022-05-22T19:00:00.0000000Z',\n",
       "  'time_open': '2022-05-22T18:00:00.2212650Z',\n",
       "  'time_close': '2022-05-22T18:59:59.4809370Z',\n",
       "  'price_open': 29906.65,\n",
       "  'price_high': 30020.41,\n",
       "  'price_low': 29805.2,\n",
       "  'price_close': 29995.42,\n",
       "  'volume_traded': 569.21955808,\n",
       "  'trades_count': 20477},\n",
       " {'time_period_start': '2022-05-22T17:00:00.0000000Z',\n",
       "  'time_period_end': '2022-05-22T18:00:00.0000000Z',\n",
       "  'time_open': '2022-05-22T17:00:00.5635730Z',\n",
       "  'time_close': '2022-05-22T17:59:59.6526380Z',\n",
       "  'price_open': 29898.72,\n",
       "  'price_high': 30150.0,\n",
       "  'price_low': 29846.19,\n",
       "  'price_close': 29906.65,\n",
       "  'volume_traded': 1313.95382675,\n",
       "  'trades_count': 25508},\n",
       " {'time_period_start': '2022-05-22T16:00:00.0000000Z',\n",
       "  'time_period_end': '2022-05-22T17:00:00.0000000Z',\n",
       "  'time_open': '2022-05-22T16:00:00.6836350Z',\n",
       "  'time_close': '2022-05-22T16:59:59.3940000Z',\n",
       "  'price_open': 29808.87,\n",
       "  'price_high': 29948.0,\n",
       "  'price_low': 29697.07,\n",
       "  'price_close': 29909.95,\n",
       "  'volume_traded': 794.2050393,\n",
       "  'trades_count': 22049},\n",
       " {'time_period_start': '2022-05-22T15:00:00.0000000Z',\n",
       "  'time_period_end': '2022-05-22T16:00:00.0000000Z',\n",
       "  'time_open': '2022-05-22T15:00:00.2439390Z',\n",
       "  'time_close': '2022-05-22T15:59:59.9144300Z',\n",
       "  'price_open': 29922.87,\n",
       "  'price_high': 29946.97,\n",
       "  'price_low': 29634.67,\n",
       "  'price_close': 29808.86,\n",
       "  'volume_traded': 1002.12252991,\n",
       "  'trades_count': 23328},\n",
       " {'time_period_start': '2022-05-22T14:00:00.0000000Z',\n",
       "  'time_period_end': '2022-05-22T15:00:00.0000000Z',\n",
       "  'time_open': '2022-05-22T14:00:00.4715720Z',\n",
       "  'time_close': '2022-05-22T14:59:59.6950000Z',\n",
       "  'price_open': 30039.06,\n",
       "  'price_high': 30111.0,\n",
       "  'price_low': 29882.5,\n",
       "  'price_close': 29927.8,\n",
       "  'volume_traded': 797.83343276,\n",
       "  'trades_count': 18906},\n",
       " {'time_period_start': '2022-05-22T13:00:00.0000000Z',\n",
       "  'time_period_end': '2022-05-22T14:00:00.0000000Z',\n",
       "  'time_open': '2022-05-22T13:00:00.0847930Z',\n",
       "  'time_close': '2022-05-22T13:59:58.5753730Z',\n",
       "  'price_open': 30127.0,\n",
       "  'price_high': 30139.45,\n",
       "  'price_low': 29923.48,\n",
       "  'price_close': 30039.06,\n",
       "  'volume_traded': 664.29929817,\n",
       "  'trades_count': 17722},\n",
       " {'time_period_start': '2022-05-22T12:00:00.0000000Z',\n",
       "  'time_period_end': '2022-05-22T13:00:00.0000000Z',\n",
       "  'time_open': '2022-05-22T12:00:00.0993410Z',\n",
       "  'time_close': '2022-05-22T12:59:59.6886930Z',\n",
       "  'price_open': 29855.05,\n",
       "  'price_high': 30190.77,\n",
       "  'price_low': 29851.0,\n",
       "  'price_close': 30124.62,\n",
       "  'volume_traded': 973.06841009,\n",
       "  'trades_count': 20899},\n",
       " {'time_period_start': '2022-05-22T11:00:00.0000000Z',\n",
       "  'time_period_end': '2022-05-22T12:00:00.0000000Z',\n",
       "  'time_open': '2022-05-22T11:00:00.5764430Z',\n",
       "  'time_close': '2022-05-22T11:59:59.7010660Z',\n",
       "  'price_open': 30140.54,\n",
       "  'price_high': 30223.5,\n",
       "  'price_low': 29749.34,\n",
       "  'price_close': 29854.86,\n",
       "  'volume_traded': 1286.50790173,\n",
       "  'trades_count': 22353},\n",
       " {'time_period_start': '2022-05-22T10:00:00.0000000Z',\n",
       "  'time_period_end': '2022-05-22T11:00:00.0000000Z',\n",
       "  'time_open': '2022-05-22T10:00:00.2842090Z',\n",
       "  'time_close': '2022-05-22T10:59:59.8079070Z',\n",
       "  'price_open': 30092.2,\n",
       "  'price_high': 30290.5,\n",
       "  'price_low': 30046.31,\n",
       "  'price_close': 30140.53,\n",
       "  'volume_traded': 1237.30416103,\n",
       "  'trades_count': 22837},\n",
       " {'time_period_start': '2022-05-22T09:00:00.0000000Z',\n",
       "  'time_period_end': '2022-05-22T10:00:00.0000000Z',\n",
       "  'time_open': '2022-05-22T09:00:01.2118650Z',\n",
       "  'time_close': '2022-05-22T09:59:59.9435410Z',\n",
       "  'price_open': 29516.15,\n",
       "  'price_high': 30176.0,\n",
       "  'price_low': 29495.14,\n",
       "  'price_close': 30092.41,\n",
       "  'volume_traded': 1721.23778803,\n",
       "  'trades_count': 28742},\n",
       " {'time_period_start': '2022-05-22T08:00:00.0000000Z',\n",
       "  'time_period_end': '2022-05-22T09:00:00.0000000Z',\n",
       "  'time_open': '2022-05-22T08:00:01.1802670Z',\n",
       "  'time_close': '2022-05-22T08:59:58.5495620Z',\n",
       "  'price_open': 29403.07,\n",
       "  'price_high': 29557.49,\n",
       "  'price_low': 29382.41,\n",
       "  'price_close': 29511.65,\n",
       "  'volume_traded': 566.81783904,\n",
       "  'trades_count': 12886},\n",
       " {'time_period_start': '2022-05-22T07:00:00.0000000Z',\n",
       "  'time_period_end': '2022-05-22T08:00:00.0000000Z',\n",
       "  'time_open': '2022-05-22T07:00:00.1529320Z',\n",
       "  'time_close': '2022-05-22T07:59:55.8661140Z',\n",
       "  'price_open': 29366.04,\n",
       "  'price_high': 29419.99,\n",
       "  'price_low': 29313.16,\n",
       "  'price_close': 29398.34,\n",
       "  'volume_traded': 377.96648114,\n",
       "  'trades_count': 10317},\n",
       " {'time_period_start': '2022-05-22T06:00:00.0000000Z',\n",
       "  'time_period_end': '2022-05-22T07:00:00.0000000Z',\n",
       "  'time_open': '2022-05-22T06:00:00.2507560Z',\n",
       "  'time_close': '2022-05-22T06:59:58.2182330Z',\n",
       "  'price_open': 29327.48,\n",
       "  'price_high': 29385.65,\n",
       "  'price_low': 29313.9,\n",
       "  'price_close': 29366.04,\n",
       "  'volume_traded': 376.77851875,\n",
       "  'trades_count': 9994},\n",
       " {'time_period_start': '2022-05-22T05:00:00.0000000Z',\n",
       "  'time_period_end': '2022-05-22T06:00:00.0000000Z',\n",
       "  'time_open': '2022-05-22T05:00:01.1185780Z',\n",
       "  'time_close': '2022-05-22T05:59:59.8998860Z',\n",
       "  'price_open': 29246.29,\n",
       "  'price_high': 29381.04,\n",
       "  'price_low': 29243.2,\n",
       "  'price_close': 29327.48,\n",
       "  'volume_traded': 304.48078927,\n",
       "  'trades_count': 11344},\n",
       " {'time_period_start': '2022-05-22T04:00:00.0000000Z',\n",
       "  'time_period_end': '2022-05-22T05:00:00.0000000Z',\n",
       "  'time_open': '2022-05-22T04:00:01.2903120Z',\n",
       "  'time_close': '2022-05-22T04:59:59.9342130Z',\n",
       "  'price_open': 29326.5,\n",
       "  'price_high': 29331.0,\n",
       "  'price_low': 29209.03,\n",
       "  'price_close': 29246.0,\n",
       "  'volume_traded': 377.43278101,\n",
       "  'trades_count': 13152},\n",
       " {'time_period_start': '2022-05-22T03:00:00.0000000Z',\n",
       "  'time_period_end': '2022-05-22T04:00:00.0000000Z',\n",
       "  'time_open': '2022-05-22T03:00:00.2809670Z',\n",
       "  'time_close': '2022-05-22T03:59:59.4142970Z',\n",
       "  'price_open': 29361.72,\n",
       "  'price_high': 29456.06,\n",
       "  'price_low': 29293.46,\n",
       "  'price_close': 29326.5,\n",
       "  'volume_traded': 358.09539965,\n",
       "  'trades_count': 12620},\n",
       " {'time_period_start': '2022-05-22T02:00:00.0000000Z',\n",
       "  'time_period_end': '2022-05-22T03:00:00.0000000Z',\n",
       "  'time_open': '2022-05-22T02:00:00.3690550Z',\n",
       "  'time_close': '2022-05-22T02:59:59.6524590Z',\n",
       "  'price_open': 29466.05,\n",
       "  'price_high': 29481.91,\n",
       "  'price_low': 29330.0,\n",
       "  'price_close': 29361.72,\n",
       "  'volume_traded': 340.53211594,\n",
       "  'trades_count': 12530},\n",
       " {'time_period_start': '2022-05-22T01:00:00.0000000Z',\n",
       "  'time_period_end': '2022-05-22T02:00:00.0000000Z',\n",
       "  'time_open': '2022-05-22T01:00:00.4075340Z',\n",
       "  'time_close': '2022-05-22T01:59:59.3914550Z',\n",
       "  'price_open': 29428.78,\n",
       "  'price_high': 29512.0,\n",
       "  'price_low': 29428.78,\n",
       "  'price_close': 29466.03,\n",
       "  'volume_traded': 336.98956103,\n",
       "  'trades_count': 12738},\n",
       " {'time_period_start': '2022-05-22T00:00:00.0000000Z',\n",
       "  'time_period_end': '2022-05-22T01:00:00.0000000Z',\n",
       "  'time_open': '2022-05-22T00:00:00.3143360Z',\n",
       "  'time_close': '2022-05-22T00:59:59.9264460Z',\n",
       "  'price_open': 29407.4,\n",
       "  'price_high': 29477.0,\n",
       "  'price_low': 29354.62,\n",
       "  'price_close': 29428.77,\n",
       "  'volume_traded': 336.69112587,\n",
       "  'trades_count': 14224},\n",
       " {'time_period_start': '2022-05-21T23:00:00.0000000Z',\n",
       "  'time_period_end': '2022-05-22T00:00:00.0000000Z',\n",
       "  'time_open': '2022-05-21T23:00:00.1240500Z',\n",
       "  'time_close': '2022-05-21T23:59:59.8204270Z',\n",
       "  'price_open': 29374.62,\n",
       "  'price_high': 29496.5,\n",
       "  'price_low': 29366.01,\n",
       "  'price_close': 29408.26,\n",
       "  'volume_traded': 372.74996712,\n",
       "  'trades_count': 14734},\n",
       " {'time_period_start': '2022-05-21T22:00:00.0000000Z',\n",
       "  'time_period_end': '2022-05-21T23:00:00.0000000Z',\n",
       "  'time_open': '2022-05-21T22:00:00.2631020Z',\n",
       "  'time_close': '2022-05-21T22:59:59.6737820Z',\n",
       "  'price_open': 29314.01,\n",
       "  'price_high': 29380.43,\n",
       "  'price_low': 29264.59,\n",
       "  'price_close': 29374.16,\n",
       "  'volume_traded': 341.6688779,\n",
       "  'trades_count': 15714},\n",
       " {'time_period_start': '2022-05-21T21:00:00.0000000Z',\n",
       "  'time_period_end': '2022-05-21T22:00:00.0000000Z',\n",
       "  'time_open': '2022-05-21T21:00:00.1172140Z',\n",
       "  'time_close': '2022-05-21T21:59:59.5856050Z',\n",
       "  'price_open': 29385.66,\n",
       "  'price_high': 29427.0,\n",
       "  'price_low': 29288.3,\n",
       "  'price_close': 29314.01,\n",
       "  'volume_traded': 315.03220796,\n",
       "  'trades_count': 16814},\n",
       " {'time_period_start': '2022-05-21T20:00:00.0000000Z',\n",
       "  'time_period_end': '2022-05-21T21:00:00.0000000Z',\n",
       "  'time_open': '2022-05-21T20:00:00.6706260Z',\n",
       "  'time_close': '2022-05-21T20:59:59.2770000Z',\n",
       "  'price_open': 29416.92,\n",
       "  'price_high': 29489.26,\n",
       "  'price_low': 29310.07,\n",
       "  'price_close': 29395.2,\n",
       "  'volume_traded': 369.50049514,\n",
       "  'trades_count': 16402},\n",
       " {'time_period_start': '2022-05-21T19:00:00.0000000Z',\n",
       "  'time_period_end': '2022-05-21T20:00:00.0000000Z',\n",
       "  'time_open': '2022-05-21T19:00:00.0047880Z',\n",
       "  'time_close': '2022-05-21T19:59:59.3567110Z',\n",
       "  'price_open': 29435.6,\n",
       "  'price_high': 29543.31,\n",
       "  'price_low': 29382.96,\n",
       "  'price_close': 29419.27,\n",
       "  'volume_traded': 384.57537653,\n",
       "  'trades_count': 17444},\n",
       " {'time_period_start': '2022-05-21T18:00:00.0000000Z',\n",
       "  'time_period_end': '2022-05-21T19:00:00.0000000Z',\n",
       "  'time_open': '2022-05-21T18:00:00.9110230Z',\n",
       "  'time_close': '2022-05-21T18:59:59.9203590Z',\n",
       "  'price_open': 29364.44,\n",
       "  'price_high': 29457.49,\n",
       "  'price_low': 29355.904,\n",
       "  'price_close': 29435.6,\n",
       "  'volume_traded': 359.44931555,\n",
       "  'trades_count': 17889},\n",
       " {'time_period_start': '2022-05-21T17:00:00.0000000Z',\n",
       "  'time_period_end': '2022-05-21T18:00:00.0000000Z',\n",
       "  'time_open': '2022-05-21T17:00:00.3730160Z',\n",
       "  'time_close': '2022-05-21T17:59:59.9905500Z',\n",
       "  'price_open': 29521.83,\n",
       "  'price_high': 29568.17,\n",
       "  'price_low': 29347.427,\n",
       "  'price_close': 29363.96,\n",
       "  'volume_traded': 572.75855455,\n",
       "  'trades_count': 19842},\n",
       " {'time_period_start': '2022-05-21T16:00:00.0000000Z',\n",
       "  'time_period_end': '2022-05-21T17:00:00.0000000Z',\n",
       "  'time_open': '2022-05-21T16:00:00.1078790Z',\n",
       "  'time_close': '2022-05-21T16:59:59.6179090Z',\n",
       "  'price_open': 29510.1,\n",
       "  'price_high': 29622.5,\n",
       "  'price_low': 29454.54,\n",
       "  'price_close': 29522.15,\n",
       "  'volume_traded': 697.15193676,\n",
       "  'trades_count': 21395},\n",
       " {'time_period_start': '2022-05-21T15:00:00.0000000Z',\n",
       "  'time_period_end': '2022-05-21T16:00:00.0000000Z',\n",
       "  'time_open': '2022-05-21T15:00:00.0816070Z',\n",
       "  'time_close': '2022-05-21T15:59:59.9522060Z',\n",
       "  'price_open': 29359.7,\n",
       "  'price_high': 29612.0,\n",
       "  'price_low': 29232.43,\n",
       "  'price_close': 29510.11,\n",
       "  'volume_traded': 953.61139096,\n",
       "  'trades_count': 23880},\n",
       " {'time_period_start': '2022-05-21T14:00:00.0000000Z',\n",
       "  'time_period_end': '2022-05-21T15:00:00.0000000Z',\n",
       "  'time_open': '2022-05-21T14:00:00.0360590Z',\n",
       "  'time_close': '2022-05-21T14:59:59.8520910Z',\n",
       "  'price_open': 29268.79,\n",
       "  'price_high': 29441.9,\n",
       "  'price_low': 29215.62,\n",
       "  'price_close': 29361.39,\n",
       "  'volume_traded': 702.38264363,\n",
       "  'trades_count': 20530},\n",
       " {'time_period_start': '2022-05-21T13:00:00.0000000Z',\n",
       "  'time_period_end': '2022-05-21T14:00:00.0000000Z',\n",
       "  'time_open': '2022-05-21T13:00:00.6320000Z',\n",
       "  'time_close': '2022-05-21T13:59:59.9656400Z',\n",
       "  'price_open': 29252.58,\n",
       "  'price_high': 29340.79,\n",
       "  'price_low': 29193.89,\n",
       "  'price_close': 29268.79,\n",
       "  'volume_traded': 487.72616299,\n",
       "  'trades_count': 14933},\n",
       " {'time_period_start': '2022-05-21T12:00:00.0000000Z',\n",
       "  'time_period_end': '2022-05-21T13:00:00.0000000Z',\n",
       "  'time_open': '2022-05-21T12:00:00.2176110Z',\n",
       "  'time_close': '2022-05-21T12:59:59.6400000Z',\n",
       "  'price_open': 29248.58,\n",
       "  'price_high': 29322.8,\n",
       "  'price_low': 29134.03,\n",
       "  'price_close': 29232.5,\n",
       "  'volume_traded': 534.85674643,\n",
       "  'trades_count': 15412},\n",
       " {'time_period_start': '2022-05-21T11:00:00.0000000Z',\n",
       "  'time_period_end': '2022-05-21T12:00:00.0000000Z',\n",
       "  'time_open': '2022-05-21T11:00:00.9960700Z',\n",
       "  'time_close': '2022-05-21T11:59:59.5317070Z',\n",
       "  'price_open': 29252.59,\n",
       "  'price_high': 29276.84,\n",
       "  'price_low': 29108.99,\n",
       "  'price_close': 29248.58,\n",
       "  'volume_traded': 481.93730562,\n",
       "  'trades_count': 14775},\n",
       " {'time_period_start': '2022-05-21T10:00:00.0000000Z',\n",
       "  'time_period_end': '2022-05-21T11:00:00.0000000Z',\n",
       "  'time_open': '2022-05-21T10:00:01.1370450Z',\n",
       "  'time_close': '2022-05-21T10:59:57.9149340Z',\n",
       "  'price_open': 29302.38,\n",
       "  'price_high': 29391.1,\n",
       "  'price_low': 29167.76,\n",
       "  'price_close': 29252.58,\n",
       "  'volume_traded': 641.26577156,\n",
       "  'trades_count': 15185},\n",
       " {'time_period_start': '2022-05-21T09:00:00.0000000Z',\n",
       "  'time_period_end': '2022-05-21T10:00:00.0000000Z',\n",
       "  'time_open': '2022-05-21T09:00:00.2473940Z',\n",
       "  'time_close': '2022-05-21T09:59:59.2441030Z',\n",
       "  'price_open': 29329.73,\n",
       "  'price_high': 29342.0,\n",
       "  'price_low': 29199.81,\n",
       "  'price_close': 29299.0,\n",
       "  'volume_traded': 504.01687062,\n",
       "  'trades_count': 12204},\n",
       " {'time_period_start': '2022-05-21T08:00:00.0000000Z',\n",
       "  'time_period_end': '2022-05-21T09:00:00.0000000Z',\n",
       "  'time_open': '2022-05-21T08:00:00.0115000Z',\n",
       "  'time_close': '2022-05-21T08:59:59.7420000Z',\n",
       "  'price_open': 29379.61,\n",
       "  'price_high': 29454.12,\n",
       "  'price_low': 29312.0,\n",
       "  'price_close': 29331.2,\n",
       "  'volume_traded': 606.35803765,\n",
       "  'trades_count': 13397},\n",
       " {'time_period_start': '2022-05-21T07:00:00.0000000Z',\n",
       "  'time_period_end': '2022-05-21T08:00:00.0000000Z',\n",
       "  'time_open': '2022-05-21T07:00:00.2205860Z',\n",
       "  'time_close': '2022-05-21T07:59:59.0770000Z',\n",
       "  'price_open': 29321.22,\n",
       "  'price_high': 29539.55,\n",
       "  'price_low': 29270.64,\n",
       "  'price_close': 29387.96,\n",
       "  'volume_traded': 782.61102963,\n",
       "  'trades_count': 17302},\n",
       " {'time_period_start': '2022-05-21T06:00:00.0000000Z',\n",
       "  'time_period_end': '2022-05-21T07:00:00.0000000Z',\n",
       "  'time_open': '2022-05-21T06:00:00.6722020Z',\n",
       "  'time_close': '2022-05-21T06:59:59.6870000Z',\n",
       "  'price_open': 29248.55,\n",
       "  'price_high': 29337.22,\n",
       "  'price_low': 29186.2,\n",
       "  'price_close': 29323.3,\n",
       "  'volume_traded': 496.69677722,\n",
       "  'trades_count': 12601},\n",
       " {'time_period_start': '2022-05-21T05:00:00.0000000Z',\n",
       "  'time_period_end': '2022-05-21T06:00:00.0000000Z',\n",
       "  'time_open': '2022-05-21T05:00:00.4045210Z',\n",
       "  'time_close': '2022-05-21T05:59:59.8290000Z',\n",
       "  'price_open': 29218.3,\n",
       "  'price_high': 29297.6,\n",
       "  'price_low': 29176.03,\n",
       "  'price_close': 29255.9,\n",
       "  'volume_traded': 600.75069931,\n",
       "  'trades_count': 13909},\n",
       " {'time_period_start': '2022-05-21T04:00:00.0000000Z',\n",
       "  'time_period_end': '2022-05-21T05:00:00.0000000Z',\n",
       "  'time_open': '2022-05-21T04:00:00.4793680Z',\n",
       "  'time_close': '2022-05-21T04:59:59.2608740Z',\n",
       "  'price_open': 29222.24,\n",
       "  'price_high': 29248.53,\n",
       "  'price_low': 29159.28,\n",
       "  'price_close': 29218.29,\n",
       "  'volume_traded': 465.94164165,\n",
       "  'trades_count': 13881},\n",
       " {'time_period_start': '2022-05-21T03:00:00.0000000Z',\n",
       "  'time_period_end': '2022-05-21T04:00:00.0000000Z',\n",
       "  'time_open': '2022-05-21T03:00:00.2193080Z',\n",
       "  'time_close': '2022-05-21T03:59:59.6886490Z',\n",
       "  'price_open': 29189.78,\n",
       "  'price_high': 29266.21,\n",
       "  'price_low': 29083.78,\n",
       "  'price_close': 29220.75,\n",
       "  'volume_traded': 553.46373283,\n",
       "  'trades_count': 16387},\n",
       " {'time_period_start': '2022-05-21T02:00:00.0000000Z',\n",
       "  'time_period_end': '2022-05-21T03:00:00.0000000Z',\n",
       "  'time_open': '2022-05-21T02:00:00.0450000Z',\n",
       "  'time_close': '2022-05-21T02:59:59.3487060Z',\n",
       "  'price_open': 29094.2,\n",
       "  'price_high': 29231.36,\n",
       "  'price_low': 29020.4,\n",
       "  'price_close': 29189.76,\n",
       "  'volume_traded': 468.05442804,\n",
       "  'trades_count': 18544},\n",
       " {'time_period_start': '2022-05-21T01:00:00.0000000Z',\n",
       "  'time_period_end': '2022-05-21T02:00:00.0000000Z',\n",
       "  'time_open': '2022-05-21T01:00:00.4807240Z',\n",
       "  'time_close': '2022-05-21T01:59:59.8112700Z',\n",
       "  'price_open': 29240.25,\n",
       "  'price_high': 29273.27,\n",
       "  'price_low': 28913.26,\n",
       "  'price_close': 29110.43,\n",
       "  'volume_traded': 1020.16820366,\n",
       "  'trades_count': 24416},\n",
       " {'time_period_start': '2022-05-21T00:00:00.0000000Z',\n",
       "  'time_period_end': '2022-05-21T01:00:00.0000000Z',\n",
       "  'time_open': '2022-05-21T00:00:00.0173300Z',\n",
       "  'time_close': '2022-05-21T00:59:59.0690000Z',\n",
       "  'price_open': 29155.74,\n",
       "  'price_high': 29321.17,\n",
       "  'price_low': 29112.42,\n",
       "  'price_close': 29243.5,\n",
       "  'volume_traded': 824.36421001,\n",
       "  'trades_count': 22920},\n",
       " {'time_period_start': '2022-05-20T23:00:00.0000000Z',\n",
       "  'time_period_end': '2022-05-21T00:00:00.0000000Z',\n",
       "  'time_open': '2022-05-20T23:00:00.0391710Z',\n",
       "  'time_close': '2022-05-20T23:59:58.7175650Z',\n",
       "  'price_open': 29105.6,\n",
       "  'price_high': 29360.0,\n",
       "  'price_low': 29100.72,\n",
       "  'price_close': 29155.75,\n",
       "  'volume_traded': 796.75202841,\n",
       "  'trades_count': 24636},\n",
       " {'time_period_start': '2022-05-20T22:00:00.0000000Z',\n",
       "  'time_period_end': '2022-05-20T23:00:00.0000000Z',\n",
       "  'time_open': '2022-05-20T22:00:00.2407450Z',\n",
       "  'time_close': '2022-05-20T22:59:59.6954810Z',\n",
       "  'price_open': 29150.0,\n",
       "  'price_high': 29297.67,\n",
       "  'price_low': 29093.56,\n",
       "  'price_close': 29104.39,\n",
       "  'volume_traded': 834.58333797,\n",
       "  'trades_count': 24799},\n",
       " {'time_period_start': '2022-05-20T21:00:00.0000000Z',\n",
       "  'time_period_end': '2022-05-20T22:00:00.0000000Z',\n",
       "  'time_open': '2022-05-20T21:00:00.0631730Z',\n",
       "  'time_close': '2022-05-20T21:59:59.6714390Z',\n",
       "  'price_open': 29097.11,\n",
       "  'price_high': 29274.98,\n",
       "  'price_low': 29084.68,\n",
       "  'price_close': 29150.0,\n",
       "  'volume_traded': 689.29287106,\n",
       "  'trades_count': 24113},\n",
       " {'time_period_start': '2022-05-20T20:00:00.0000000Z',\n",
       "  'time_period_end': '2022-05-20T21:00:00.0000000Z',\n",
       "  'time_open': '2022-05-20T20:00:00.0380000Z',\n",
       "  'time_close': '2022-05-20T20:59:59.9823060Z',\n",
       "  'price_open': 29273.1,\n",
       "  'price_high': 29329.35,\n",
       "  'price_low': 29081.46,\n",
       "  'price_close': 29097.1,\n",
       "  'volume_traded': 1579.55943138,\n",
       "  'trades_count': 31115},\n",
       " {'time_period_start': '2022-05-20T19:00:00.0000000Z',\n",
       "  'time_period_end': '2022-05-20T20:00:00.0000000Z',\n",
       "  'time_open': '2022-05-20T19:00:00.5162860Z',\n",
       "  'time_close': '2022-05-20T19:59:59.3055880Z',\n",
       "  'price_open': 28966.87,\n",
       "  'price_high': 29319.529,\n",
       "  'price_low': 28896.59,\n",
       "  'price_close': 29259.0,\n",
       "  'volume_traded': 4158.1203624,\n",
       "  'trades_count': 48054},\n",
       " {'time_period_start': '2022-05-20T18:00:00.0000000Z',\n",
       "  'time_period_end': '2022-05-20T19:00:00.0000000Z',\n",
       "  'time_open': '2022-05-20T18:00:00.0387140Z',\n",
       "  'time_close': '2022-05-20T18:59:59.8283010Z',\n",
       "  'price_open': 28906.9,\n",
       "  'price_high': 29072.5,\n",
       "  'price_low': 28765.0,\n",
       "  'price_close': 28966.87,\n",
       "  'volume_traded': 2398.83603161,\n",
       "  'trades_count': 45737},\n",
       " {'time_period_start': '2022-05-20T17:00:00.0000000Z',\n",
       "  'time_period_end': '2022-05-20T18:00:00.0000000Z',\n",
       "  'time_open': '2022-05-20T17:00:00.0325420Z',\n",
       "  'time_close': '2022-05-20T17:59:59.9841290Z',\n",
       "  'price_open': 28859.28,\n",
       "  'price_high': 29035.5,\n",
       "  'price_low': 28695.0,\n",
       "  'price_close': 28906.9,\n",
       "  'volume_traded': 3510.40258937,\n",
       "  'trades_count': 67067},\n",
       " {'time_period_start': '2022-05-20T16:00:00.0000000Z',\n",
       "  'time_period_end': '2022-05-20T17:00:00.0000000Z',\n",
       "  'time_open': '2022-05-20T16:00:00.0653270Z',\n",
       "  'time_close': '2022-05-20T16:59:59.9305940Z',\n",
       "  'price_open': 29108.9,\n",
       "  'price_high': 29153.693,\n",
       "  'price_low': 28690.13,\n",
       "  'price_close': 28859.28,\n",
       "  'volume_traded': 5486.12082541,\n",
       "  'trades_count': 72435},\n",
       " {'time_period_start': '2022-05-20T15:00:00.0000000Z',\n",
       "  'time_period_end': '2022-05-20T16:00:00.0000000Z',\n",
       "  'time_open': '2022-05-20T15:00:00.1208750Z',\n",
       "  'time_close': '2022-05-20T15:59:59.6961890Z',\n",
       "  'price_open': 29453.49,\n",
       "  'price_high': 29459.17,\n",
       "  'price_low': 29029.0,\n",
       "  'price_close': 29109.12,\n",
       "  'volume_traded': 3450.8111483,\n",
       "  'trades_count': 58012},\n",
       " {'time_period_start': '2022-05-20T14:00:00.0000000Z',\n",
       "  'time_period_end': '2022-05-20T15:00:00.0000000Z',\n",
       "  'time_open': '2022-05-20T14:00:00.0147890Z',\n",
       "  'time_close': '2022-05-20T14:59:58.6584540Z',\n",
       "  'price_open': 30326.45,\n",
       "  'price_high': 30351.58,\n",
       "  'price_low': 29346.3,\n",
       "  'price_close': 29450.55,\n",
       "  'volume_traded': 4074.53048255,\n",
       "  'trades_count': 60658},\n",
       " {'time_period_start': '2022-05-20T13:00:00.0000000Z',\n",
       "  'time_period_end': '2022-05-20T14:00:00.0000000Z',\n",
       "  'time_open': '2022-05-20T13:00:00.0346100Z',\n",
       "  'time_close': '2022-05-20T13:59:59.7649850Z',\n",
       "  'price_open': 30221.98,\n",
       "  'price_high': 30405.5,\n",
       "  'price_low': 30057.5,\n",
       "  'price_close': 30328.86,\n",
       "  'volume_traded': 2977.98638052,\n",
       "  'trades_count': 50222}]"
      ]
     },
     "execution_count": 7,
     "metadata": {},
     "output_type": "execute_result"
    }
   ],
   "source": [
    "data = response.json()\n",
    "data"
   ]
  },
  {
   "cell_type": "code",
   "execution_count": 8,
   "metadata": {},
   "outputs": [
    {
     "data": {
      "text/html": [
       "<div>\n",
       "<style scoped>\n",
       "    .dataframe tbody tr th:only-of-type {\n",
       "        vertical-align: middle;\n",
       "    }\n",
       "\n",
       "    .dataframe tbody tr th {\n",
       "        vertical-align: top;\n",
       "    }\n",
       "\n",
       "    .dataframe thead th {\n",
       "        text-align: right;\n",
       "    }\n",
       "</style>\n",
       "<table border=\"1\" class=\"dataframe\">\n",
       "  <thead>\n",
       "    <tr style=\"text-align: right;\">\n",
       "      <th></th>\n",
       "      <th>time_period_start</th>\n",
       "      <th>time_period_end</th>\n",
       "      <th>time_open</th>\n",
       "      <th>time_close</th>\n",
       "      <th>price_open</th>\n",
       "      <th>price_high</th>\n",
       "      <th>price_low</th>\n",
       "      <th>price_close</th>\n",
       "      <th>volume_traded</th>\n",
       "      <th>trades_count</th>\n",
       "    </tr>\n",
       "  </thead>\n",
       "  <tbody>\n",
       "    <tr>\n",
       "      <th>0</th>\n",
       "      <td>2022-05-24T16:00:00.0000000Z</td>\n",
       "      <td>2022-05-24T17:00:00.0000000Z</td>\n",
       "      <td>2022-05-24T16:00:00.2252000Z</td>\n",
       "      <td>2022-05-24T16:11:04.5410040Z</td>\n",
       "      <td>29347.27</td>\n",
       "      <td>29505.00</td>\n",
       "      <td>29343.37</td>\n",
       "      <td>29488.30</td>\n",
       "      <td>300.664441</td>\n",
       "      <td>6938</td>\n",
       "    </tr>\n",
       "    <tr>\n",
       "      <th>1</th>\n",
       "      <td>2022-05-24T15:00:00.0000000Z</td>\n",
       "      <td>2022-05-24T16:00:00.0000000Z</td>\n",
       "      <td>2022-05-24T15:00:00.1563500Z</td>\n",
       "      <td>2022-05-24T15:59:59.6427380Z</td>\n",
       "      <td>29035.55</td>\n",
       "      <td>29631.90</td>\n",
       "      <td>28934.93</td>\n",
       "      <td>29347.40</td>\n",
       "      <td>2542.781683</td>\n",
       "      <td>45634</td>\n",
       "    </tr>\n",
       "    <tr>\n",
       "      <th>2</th>\n",
       "      <td>2022-05-24T14:00:00.0000000Z</td>\n",
       "      <td>2022-05-24T15:00:00.0000000Z</td>\n",
       "      <td>2022-05-24T14:00:00.3470160Z</td>\n",
       "      <td>2022-05-24T14:59:59.8789040Z</td>\n",
       "      <td>28918.27</td>\n",
       "      <td>29105.60</td>\n",
       "      <td>28611.00</td>\n",
       "      <td>29035.54</td>\n",
       "      <td>3817.767749</td>\n",
       "      <td>67390</td>\n",
       "    </tr>\n",
       "    <tr>\n",
       "      <th>3</th>\n",
       "      <td>2022-05-24T13:00:00.0000000Z</td>\n",
       "      <td>2022-05-24T14:00:00.0000000Z</td>\n",
       "      <td>2022-05-24T13:00:01.0471290Z</td>\n",
       "      <td>2022-05-24T13:59:59.8396020Z</td>\n",
       "      <td>29218.57</td>\n",
       "      <td>29301.03</td>\n",
       "      <td>28863.63</td>\n",
       "      <td>28921.74</td>\n",
       "      <td>1972.960390</td>\n",
       "      <td>41490</td>\n",
       "    </tr>\n",
       "    <tr>\n",
       "      <th>4</th>\n",
       "      <td>2022-05-24T12:00:00.0000000Z</td>\n",
       "      <td>2022-05-24T13:00:00.0000000Z</td>\n",
       "      <td>2022-05-24T12:00:00.4699840Z</td>\n",
       "      <td>2022-05-24T12:59:59.5560160Z</td>\n",
       "      <td>29260.49</td>\n",
       "      <td>29334.93</td>\n",
       "      <td>29097.56</td>\n",
       "      <td>29220.61</td>\n",
       "      <td>767.875220</td>\n",
       "      <td>20531</td>\n",
       "    </tr>\n",
       "  </tbody>\n",
       "</table>\n",
       "</div>"
      ],
      "text/plain": [
       "              time_period_start               time_period_end  \\\n",
       "0  2022-05-24T16:00:00.0000000Z  2022-05-24T17:00:00.0000000Z   \n",
       "1  2022-05-24T15:00:00.0000000Z  2022-05-24T16:00:00.0000000Z   \n",
       "2  2022-05-24T14:00:00.0000000Z  2022-05-24T15:00:00.0000000Z   \n",
       "3  2022-05-24T13:00:00.0000000Z  2022-05-24T14:00:00.0000000Z   \n",
       "4  2022-05-24T12:00:00.0000000Z  2022-05-24T13:00:00.0000000Z   \n",
       "\n",
       "                      time_open                    time_close  price_open  \\\n",
       "0  2022-05-24T16:00:00.2252000Z  2022-05-24T16:11:04.5410040Z    29347.27   \n",
       "1  2022-05-24T15:00:00.1563500Z  2022-05-24T15:59:59.6427380Z    29035.55   \n",
       "2  2022-05-24T14:00:00.3470160Z  2022-05-24T14:59:59.8789040Z    28918.27   \n",
       "3  2022-05-24T13:00:01.0471290Z  2022-05-24T13:59:59.8396020Z    29218.57   \n",
       "4  2022-05-24T12:00:00.4699840Z  2022-05-24T12:59:59.5560160Z    29260.49   \n",
       "\n",
       "   price_high  price_low  price_close  volume_traded  trades_count  \n",
       "0    29505.00   29343.37     29488.30     300.664441          6938  \n",
       "1    29631.90   28934.93     29347.40    2542.781683         45634  \n",
       "2    29105.60   28611.00     29035.54    3817.767749         67390  \n",
       "3    29301.03   28863.63     28921.74    1972.960390         41490  \n",
       "4    29334.93   29097.56     29220.61     767.875220         20531  "
      ]
     },
     "execution_count": 8,
     "metadata": {},
     "output_type": "execute_result"
    }
   ],
   "source": [
    "df = pd.DataFrame(data)\n",
    "df.head()"
   ]
  },
  {
   "cell_type": "markdown",
   "metadata": {},
   "source": [
    "# Price open"
   ]
  },
  {
   "cell_type": "code",
   "execution_count": 27,
   "metadata": {},
   "outputs": [
    {
     "data": {
      "text/plain": [
       "43509.12"
      ]
     },
     "execution_count": 27,
     "metadata": {},
     "output_type": "execute_result"
    }
   ],
   "source": [
    "df['price_open'][0]"
   ]
  },
  {
   "cell_type": "markdown",
   "metadata": {},
   "source": [
    "# Price close "
   ]
  },
  {
   "cell_type": "code",
   "execution_count": 28,
   "metadata": {},
   "outputs": [
    {
     "data": {
      "text/plain": [
       "43577.54"
      ]
     },
     "execution_count": 28,
     "metadata": {},
     "output_type": "execute_result"
    }
   ],
   "source": [
    "df['price_close'][0]"
   ]
  },
  {
   "cell_type": "markdown",
   "metadata": {},
   "source": [
    "# Price_High"
   ]
  },
  {
   "cell_type": "code",
   "execution_count": 29,
   "metadata": {},
   "outputs": [
    {
     "data": {
      "text/plain": [
       "43692.79"
      ]
     },
     "execution_count": 29,
     "metadata": {},
     "output_type": "execute_result"
    }
   ],
   "source": [
    "df['price_high'][0]"
   ]
  },
  {
   "cell_type": "markdown",
   "metadata": {},
   "source": [
    "# volume_traded"
   ]
  },
  {
   "cell_type": "code",
   "execution_count": 30,
   "metadata": {},
   "outputs": [
    {
     "data": {
      "text/plain": [
       "301.27344819"
      ]
     },
     "execution_count": 30,
     "metadata": {},
     "output_type": "execute_result"
    }
   ],
   "source": [
    "df['volume_traded'][0]"
   ]
  },
  {
   "cell_type": "code",
   "execution_count": null,
   "metadata": {},
   "outputs": [],
   "source": []
  },
  {
   "cell_type": "markdown",
   "metadata": {},
   "source": [
    "# Candlestick Charts in Python"
   ]
  },
  {
   "cell_type": "code",
   "execution_count": 32,
   "metadata": {},
   "outputs": [
    {
     "data": {
      "application/vnd.plotly.v1+json": {
       "config": {
        "plotlyServerURL": "https://plot.ly"
       },
       "data": [
        {
         "close": [
          43577.54,
          43505.94,
          43648.02,
          44056.8,
          44213.54,
          44143.9,
          44039.83,
          44182.57,
          44219.11,
          44056.88,
          44081.12,
          43920.74,
          44012.22,
          44106.3,
          44011.44,
          44225.7,
          44583.52,
          44199.47,
          43992.21,
          44172.23,
          44021.07,
          44156.6,
          43949.5,
          44146.36,
          44236.88,
          44280.65,
          44268.73,
          44205.42,
          44257.15,
          44304.4,
          44083.3,
          44015.33,
          43723.98,
          43572.49,
          43601.75,
          43483.28,
          43599.52,
          43592.01,
          43485.77,
          42595.15,
          42548.71,
          42693.32,
          42249.98,
          42206.9,
          42137.03,
          42241.72,
          42595.92,
          42672.95,
          42598.78,
          42530,
          42510.67,
          42559.56,
          42129.03,
          42245.52,
          42075.74,
          42045.38,
          42337.26,
          42202.27,
          41789.15,
          41973.39,
          41931.06,
          41711.17,
          41689.59,
          42134.51,
          42074.99,
          42399.1,
          42235.9,
          42463.19,
          42055.77,
          41999.79,
          42287.04,
          42332.64,
          42584.73,
          42544.6,
          42531.79,
          42498.88,
          42497.09,
          42594.62,
          42335.95,
          42471.11,
          42432.09,
          42444.98,
          42293.1,
          42225.8,
          42243.08,
          42235.03,
          42257.43,
          42418.51,
          42244.97,
          42201.21,
          41898.11,
          42634,
          42675.12,
          42849.55,
          42753.14,
          42751.52,
          42136.79,
          42190.33,
          42117.45,
          42302.45
         ],
         "high": [
          43692.79,
          43759.5,
          44203,
          44250,
          44301.13,
          44164.66,
          44272.05,
          44372.5,
          44242,
          44228.96,
          44172.4,
          44016.89,
          44199.79,
          44110.88,
          44233.6,
          44590.75,
          44785.66,
          44400,
          44204.5,
          44201.78,
          44171.63,
          44237.26,
          44192.79,
          44289.46,
          44328.8,
          44543.9,
          44357.49,
          44393.83,
          44476.21,
          44417.51,
          44135.86,
          44193.845,
          43809.5,
          43740,
          43647.96,
          43813.89,
          43692.29,
          43718.07,
          43649.99,
          42697.25,
          42838.9,
          42800,
          42314.74,
          42344.69,
          42313.18,
          42689.92,
          42829.5,
          42858,
          42686.36,
          42876.15,
          42708.58,
          42632,
          42297.7,
          42309.5,
          42248,
          42461.5,
          42388.11,
          42382.64,
          42028.13,
          41993.85,
          41990.78,
          41856.24,
          42167.31,
          42247.7,
          42421,
          42446.5,
          42543.6,
          42468.13,
          42210.64,
          42422.65,
          42334.79,
          42616.614,
          42784,
          42738.8,
          42603.92,
          42650,
          42674.96,
          42663.69,
          42489.06,
          42524.16,
          42488,
          42462.16,
          42340.7,
          42362.53,
          42323.43,
          42299.35,
          42515.02,
          42526.47,
          42285.13,
          42241.37,
          42652.42,
          42788.43,
          42912.03,
          43055,
          42837.95,
          42849.87,
          42236.56,
          42246.41,
          42367.33,
          42471.05
         ],
         "low": [
          43447.71,
          43236.5,
          43540.2,
          43990,
          44135.69,
          43897,
          44000.01,
          44155.98,
          43959.84,
          44045,
          43913,
          43677.79,
          43982.68,
          43923.05,
          43956,
          44151.97,
          44112,
          43987.01,
          43948.04,
          43986,
          43976.5,
          43887,
          43864.89,
          44029.22,
          44127.76,
          44204.76,
          44021.3,
          44158.25,
          44129,
          43994.23,
          43866.5,
          43626.5,
          43541.37,
          43552.63,
          43383,
          43474.02,
          43521.4,
          43412.38,
          42533.88,
          42428,
          42533.41,
          42242.36,
          42112.98,
          42002.72,
          41800,
          42209.64,
          42506.04,
          42563.58,
          42340.49,
          42482.8,
          42395.23,
          41961.66,
          42084.35,
          41927.18,
          41947.21,
          42010.37,
          42124.31,
          41743.87,
          41761.5,
          41844.42,
          41621,
          41617.6,
          41554.626,
          41948.37,
          42025.882,
          42219.5,
          42215,
          41950.06,
          41887,
          41882.54,
          42086.53,
          42217.71,
          42514.5,
          42193.02,
          42416.94,
          42438.09,
          42477.2,
          42270.09,
          42296.29,
          42349.57,
          42313.91,
          42235.73,
          42141.35,
          42131.92,
          42167.31,
          42114,
          42216.16,
          42070,
          42084.37,
          41848.66,
          41733.5,
          42489.65,
          42618.91,
          42748.7,
          42577.51,
          42003.41,
          41843.57,
          41807,
          42075.8,
          42218.88
         ],
         "open": [
          43509.12,
          43648.02,
          44061.56,
          44202.42,
          44143.89,
          44037.56,
          44182.57,
          44219.12,
          44058.08,
          44081.12,
          43926.7,
          44012.22,
          44103.13,
          44011.44,
          44233.6,
          44580.73,
          44199.47,
          43992.21,
          44167.12,
          44021.06,
          44155.51,
          43947.92,
          44146.36,
          44236.88,
          44280.65,
          44282.7,
          44205.42,
          44257.14,
          44302.64,
          44080.64,
          44012.91,
          43723.97,
          43571.5,
          43601.75,
          43483.3,
          43599.52,
          43594.18,
          43485.76,
          42595.14,
          42548.71,
          42696.67,
          42252.86,
          42198.55,
          42137.03,
          42245.28,
          42596.55,
          42672.96,
          42601.1,
          42530,
          42510.91,
          42564.37,
          42119.28,
          42238.54,
          42085.49,
          42042.26,
          42337.26,
          42202.28,
          41789.15,
          41974.6,
          41930.36,
          41711.16,
          41686.85,
          42132.91,
          42073.37,
          42394.66,
          42226.89,
          42464.63,
          42055.77,
          41999.79,
          42285.27,
          42332.65,
          42592.82,
          42551.17,
          42531.8,
          42498.88,
          42497.08,
          42610.1,
          42335.95,
          42471.1,
          42432.09,
          42444.98,
          42293.1,
          42224.11,
          42243.08,
          42235.03,
          42261.82,
          42418.51,
          42244.91,
          42201.21,
          41896.1,
          42640.82,
          42675.72,
          42849.54,
          42753.15,
          42757.5,
          42133.84,
          42182.05,
          42119.55,
          42300,
          42428.54
         ],
         "type": "candlestick",
         "x": [
          "2022-02-16T15:00:00.0000000Z",
          "2022-02-16T14:00:00.0000000Z",
          "2022-02-16T13:00:00.0000000Z",
          "2022-02-16T12:00:00.0000000Z",
          "2022-02-16T11:00:00.0000000Z",
          "2022-02-16T10:00:00.0000000Z",
          "2022-02-16T09:00:00.0000000Z",
          "2022-02-16T08:00:00.0000000Z",
          "2022-02-16T07:00:00.0000000Z",
          "2022-02-16T06:00:00.0000000Z",
          "2022-02-16T05:00:00.0000000Z",
          "2022-02-16T04:00:00.0000000Z",
          "2022-02-16T03:00:00.0000000Z",
          "2022-02-16T02:00:00.0000000Z",
          "2022-02-16T01:00:00.0000000Z",
          "2022-02-16T00:00:00.0000000Z",
          "2022-02-15T23:00:00.0000000Z",
          "2022-02-15T22:00:00.0000000Z",
          "2022-02-15T21:00:00.0000000Z",
          "2022-02-15T20:00:00.0000000Z",
          "2022-02-15T19:00:00.0000000Z",
          "2022-02-15T18:00:00.0000000Z",
          "2022-02-15T17:00:00.0000000Z",
          "2022-02-15T16:00:00.0000000Z",
          "2022-02-15T15:00:00.0000000Z",
          "2022-02-15T14:00:00.0000000Z",
          "2022-02-15T13:00:00.0000000Z",
          "2022-02-15T12:00:00.0000000Z",
          "2022-02-15T11:00:00.0000000Z",
          "2022-02-15T10:00:00.0000000Z",
          "2022-02-15T09:00:00.0000000Z",
          "2022-02-15T08:00:00.0000000Z",
          "2022-02-15T07:00:00.0000000Z",
          "2022-02-15T06:00:00.0000000Z",
          "2022-02-15T05:00:00.0000000Z",
          "2022-02-15T04:00:00.0000000Z",
          "2022-02-15T03:00:00.0000000Z",
          "2022-02-15T02:00:00.0000000Z",
          "2022-02-15T01:00:00.0000000Z",
          "2022-02-15T00:00:00.0000000Z",
          "2022-02-14T23:00:00.0000000Z",
          "2022-02-14T22:00:00.0000000Z",
          "2022-02-14T21:00:00.0000000Z",
          "2022-02-14T20:00:00.0000000Z",
          "2022-02-14T19:00:00.0000000Z",
          "2022-02-14T18:00:00.0000000Z",
          "2022-02-14T17:00:00.0000000Z",
          "2022-02-14T16:00:00.0000000Z",
          "2022-02-14T15:00:00.0000000Z",
          "2022-02-14T14:00:00.0000000Z",
          "2022-02-14T13:00:00.0000000Z",
          "2022-02-14T12:00:00.0000000Z",
          "2022-02-14T11:00:00.0000000Z",
          "2022-02-14T10:00:00.0000000Z",
          "2022-02-14T09:00:00.0000000Z",
          "2022-02-14T08:00:00.0000000Z",
          "2022-02-14T07:00:00.0000000Z",
          "2022-02-14T06:00:00.0000000Z",
          "2022-02-14T05:00:00.0000000Z",
          "2022-02-14T04:00:00.0000000Z",
          "2022-02-14T03:00:00.0000000Z",
          "2022-02-14T02:00:00.0000000Z",
          "2022-02-14T01:00:00.0000000Z",
          "2022-02-14T00:00:00.0000000Z",
          "2022-02-13T23:00:00.0000000Z",
          "2022-02-13T22:00:00.0000000Z",
          "2022-02-13T21:00:00.0000000Z",
          "2022-02-13T20:00:00.0000000Z",
          "2022-02-13T19:00:00.0000000Z",
          "2022-02-13T18:00:00.0000000Z",
          "2022-02-13T17:00:00.0000000Z",
          "2022-02-13T16:00:00.0000000Z",
          "2022-02-13T15:00:00.0000000Z",
          "2022-02-13T14:00:00.0000000Z",
          "2022-02-13T13:00:00.0000000Z",
          "2022-02-13T12:00:00.0000000Z",
          "2022-02-13T11:00:00.0000000Z",
          "2022-02-13T10:00:00.0000000Z",
          "2022-02-13T09:00:00.0000000Z",
          "2022-02-13T08:00:00.0000000Z",
          "2022-02-13T07:00:00.0000000Z",
          "2022-02-13T06:00:00.0000000Z",
          "2022-02-13T05:00:00.0000000Z",
          "2022-02-13T04:00:00.0000000Z",
          "2022-02-13T03:00:00.0000000Z",
          "2022-02-13T02:00:00.0000000Z",
          "2022-02-13T01:00:00.0000000Z",
          "2022-02-13T00:00:00.0000000Z",
          "2022-02-12T23:00:00.0000000Z",
          "2022-02-12T22:00:00.0000000Z",
          "2022-02-12T21:00:00.0000000Z",
          "2022-02-12T20:00:00.0000000Z",
          "2022-02-12T19:00:00.0000000Z",
          "2022-02-12T18:00:00.0000000Z",
          "2022-02-12T17:00:00.0000000Z",
          "2022-02-12T16:00:00.0000000Z",
          "2022-02-12T15:00:00.0000000Z",
          "2022-02-12T14:00:00.0000000Z",
          "2022-02-12T13:00:00.0000000Z",
          "2022-02-12T12:00:00.0000000Z"
         ]
        }
       ],
       "layout": {
        "autosize": true,
        "colorway": [
         "#5E0DAC",
         "#FF4F00",
         "#375CB1",
         "#FF7400",
         "#FFF400",
         "#FF0056"
        ],
        "hovermode": "x",
        "margin": {
         "b": 15
        },
        "paper_bgcolor": "rgba(0, 0, 0, 0)",
        "plot_bgcolor": "rgba(0, 0, 0, 0)",
        "template": {
         "data": {
          "bar": [
           {
            "error_x": {
             "color": "#f2f5fa"
            },
            "error_y": {
             "color": "#f2f5fa"
            },
            "marker": {
             "line": {
              "color": "rgb(17,17,17)",
              "width": 0.5
             },
             "pattern": {
              "fillmode": "overlay",
              "size": 10,
              "solidity": 0.2
             }
            },
            "type": "bar"
           }
          ],
          "barpolar": [
           {
            "marker": {
             "line": {
              "color": "rgb(17,17,17)",
              "width": 0.5
             },
             "pattern": {
              "fillmode": "overlay",
              "size": 10,
              "solidity": 0.2
             }
            },
            "type": "barpolar"
           }
          ],
          "carpet": [
           {
            "aaxis": {
             "endlinecolor": "#A2B1C6",
             "gridcolor": "#506784",
             "linecolor": "#506784",
             "minorgridcolor": "#506784",
             "startlinecolor": "#A2B1C6"
            },
            "baxis": {
             "endlinecolor": "#A2B1C6",
             "gridcolor": "#506784",
             "linecolor": "#506784",
             "minorgridcolor": "#506784",
             "startlinecolor": "#A2B1C6"
            },
            "type": "carpet"
           }
          ],
          "choropleth": [
           {
            "colorbar": {
             "outlinewidth": 0,
             "ticks": ""
            },
            "type": "choropleth"
           }
          ],
          "contour": [
           {
            "colorbar": {
             "outlinewidth": 0,
             "ticks": ""
            },
            "colorscale": [
             [
              0,
              "#0d0887"
             ],
             [
              0.1111111111111111,
              "#46039f"
             ],
             [
              0.2222222222222222,
              "#7201a8"
             ],
             [
              0.3333333333333333,
              "#9c179e"
             ],
             [
              0.4444444444444444,
              "#bd3786"
             ],
             [
              0.5555555555555556,
              "#d8576b"
             ],
             [
              0.6666666666666666,
              "#ed7953"
             ],
             [
              0.7777777777777778,
              "#fb9f3a"
             ],
             [
              0.8888888888888888,
              "#fdca26"
             ],
             [
              1,
              "#f0f921"
             ]
            ],
            "type": "contour"
           }
          ],
          "contourcarpet": [
           {
            "colorbar": {
             "outlinewidth": 0,
             "ticks": ""
            },
            "type": "contourcarpet"
           }
          ],
          "heatmap": [
           {
            "colorbar": {
             "outlinewidth": 0,
             "ticks": ""
            },
            "colorscale": [
             [
              0,
              "#0d0887"
             ],
             [
              0.1111111111111111,
              "#46039f"
             ],
             [
              0.2222222222222222,
              "#7201a8"
             ],
             [
              0.3333333333333333,
              "#9c179e"
             ],
             [
              0.4444444444444444,
              "#bd3786"
             ],
             [
              0.5555555555555556,
              "#d8576b"
             ],
             [
              0.6666666666666666,
              "#ed7953"
             ],
             [
              0.7777777777777778,
              "#fb9f3a"
             ],
             [
              0.8888888888888888,
              "#fdca26"
             ],
             [
              1,
              "#f0f921"
             ]
            ],
            "type": "heatmap"
           }
          ],
          "heatmapgl": [
           {
            "colorbar": {
             "outlinewidth": 0,
             "ticks": ""
            },
            "colorscale": [
             [
              0,
              "#0d0887"
             ],
             [
              0.1111111111111111,
              "#46039f"
             ],
             [
              0.2222222222222222,
              "#7201a8"
             ],
             [
              0.3333333333333333,
              "#9c179e"
             ],
             [
              0.4444444444444444,
              "#bd3786"
             ],
             [
              0.5555555555555556,
              "#d8576b"
             ],
             [
              0.6666666666666666,
              "#ed7953"
             ],
             [
              0.7777777777777778,
              "#fb9f3a"
             ],
             [
              0.8888888888888888,
              "#fdca26"
             ],
             [
              1,
              "#f0f921"
             ]
            ],
            "type": "heatmapgl"
           }
          ],
          "histogram": [
           {
            "marker": {
             "pattern": {
              "fillmode": "overlay",
              "size": 10,
              "solidity": 0.2
             }
            },
            "type": "histogram"
           }
          ],
          "histogram2d": [
           {
            "colorbar": {
             "outlinewidth": 0,
             "ticks": ""
            },
            "colorscale": [
             [
              0,
              "#0d0887"
             ],
             [
              0.1111111111111111,
              "#46039f"
             ],
             [
              0.2222222222222222,
              "#7201a8"
             ],
             [
              0.3333333333333333,
              "#9c179e"
             ],
             [
              0.4444444444444444,
              "#bd3786"
             ],
             [
              0.5555555555555556,
              "#d8576b"
             ],
             [
              0.6666666666666666,
              "#ed7953"
             ],
             [
              0.7777777777777778,
              "#fb9f3a"
             ],
             [
              0.8888888888888888,
              "#fdca26"
             ],
             [
              1,
              "#f0f921"
             ]
            ],
            "type": "histogram2d"
           }
          ],
          "histogram2dcontour": [
           {
            "colorbar": {
             "outlinewidth": 0,
             "ticks": ""
            },
            "colorscale": [
             [
              0,
              "#0d0887"
             ],
             [
              0.1111111111111111,
              "#46039f"
             ],
             [
              0.2222222222222222,
              "#7201a8"
             ],
             [
              0.3333333333333333,
              "#9c179e"
             ],
             [
              0.4444444444444444,
              "#bd3786"
             ],
             [
              0.5555555555555556,
              "#d8576b"
             ],
             [
              0.6666666666666666,
              "#ed7953"
             ],
             [
              0.7777777777777778,
              "#fb9f3a"
             ],
             [
              0.8888888888888888,
              "#fdca26"
             ],
             [
              1,
              "#f0f921"
             ]
            ],
            "type": "histogram2dcontour"
           }
          ],
          "mesh3d": [
           {
            "colorbar": {
             "outlinewidth": 0,
             "ticks": ""
            },
            "type": "mesh3d"
           }
          ],
          "parcoords": [
           {
            "line": {
             "colorbar": {
              "outlinewidth": 0,
              "ticks": ""
             }
            },
            "type": "parcoords"
           }
          ],
          "pie": [
           {
            "automargin": true,
            "type": "pie"
           }
          ],
          "scatter": [
           {
            "marker": {
             "line": {
              "color": "#283442"
             }
            },
            "type": "scatter"
           }
          ],
          "scatter3d": [
           {
            "line": {
             "colorbar": {
              "outlinewidth": 0,
              "ticks": ""
             }
            },
            "marker": {
             "colorbar": {
              "outlinewidth": 0,
              "ticks": ""
             }
            },
            "type": "scatter3d"
           }
          ],
          "scattercarpet": [
           {
            "marker": {
             "colorbar": {
              "outlinewidth": 0,
              "ticks": ""
             }
            },
            "type": "scattercarpet"
           }
          ],
          "scattergeo": [
           {
            "marker": {
             "colorbar": {
              "outlinewidth": 0,
              "ticks": ""
             }
            },
            "type": "scattergeo"
           }
          ],
          "scattergl": [
           {
            "marker": {
             "line": {
              "color": "#283442"
             }
            },
            "type": "scattergl"
           }
          ],
          "scattermapbox": [
           {
            "marker": {
             "colorbar": {
              "outlinewidth": 0,
              "ticks": ""
             }
            },
            "type": "scattermapbox"
           }
          ],
          "scatterpolar": [
           {
            "marker": {
             "colorbar": {
              "outlinewidth": 0,
              "ticks": ""
             }
            },
            "type": "scatterpolar"
           }
          ],
          "scatterpolargl": [
           {
            "marker": {
             "colorbar": {
              "outlinewidth": 0,
              "ticks": ""
             }
            },
            "type": "scatterpolargl"
           }
          ],
          "scatterternary": [
           {
            "marker": {
             "colorbar": {
              "outlinewidth": 0,
              "ticks": ""
             }
            },
            "type": "scatterternary"
           }
          ],
          "surface": [
           {
            "colorbar": {
             "outlinewidth": 0,
             "ticks": ""
            },
            "colorscale": [
             [
              0,
              "#0d0887"
             ],
             [
              0.1111111111111111,
              "#46039f"
             ],
             [
              0.2222222222222222,
              "#7201a8"
             ],
             [
              0.3333333333333333,
              "#9c179e"
             ],
             [
              0.4444444444444444,
              "#bd3786"
             ],
             [
              0.5555555555555556,
              "#d8576b"
             ],
             [
              0.6666666666666666,
              "#ed7953"
             ],
             [
              0.7777777777777778,
              "#fb9f3a"
             ],
             [
              0.8888888888888888,
              "#fdca26"
             ],
             [
              1,
              "#f0f921"
             ]
            ],
            "type": "surface"
           }
          ],
          "table": [
           {
            "cells": {
             "fill": {
              "color": "#506784"
             },
             "line": {
              "color": "rgb(17,17,17)"
             }
            },
            "header": {
             "fill": {
              "color": "#2a3f5f"
             },
             "line": {
              "color": "rgb(17,17,17)"
             }
            },
            "type": "table"
           }
          ]
         },
         "layout": {
          "annotationdefaults": {
           "arrowcolor": "#f2f5fa",
           "arrowhead": 0,
           "arrowwidth": 1
          },
          "autotypenumbers": "strict",
          "coloraxis": {
           "colorbar": {
            "outlinewidth": 0,
            "ticks": ""
           }
          },
          "colorscale": {
           "diverging": [
            [
             0,
             "#8e0152"
            ],
            [
             0.1,
             "#c51b7d"
            ],
            [
             0.2,
             "#de77ae"
            ],
            [
             0.3,
             "#f1b6da"
            ],
            [
             0.4,
             "#fde0ef"
            ],
            [
             0.5,
             "#f7f7f7"
            ],
            [
             0.6,
             "#e6f5d0"
            ],
            [
             0.7,
             "#b8e186"
            ],
            [
             0.8,
             "#7fbc41"
            ],
            [
             0.9,
             "#4d9221"
            ],
            [
             1,
             "#276419"
            ]
           ],
           "sequential": [
            [
             0,
             "#0d0887"
            ],
            [
             0.1111111111111111,
             "#46039f"
            ],
            [
             0.2222222222222222,
             "#7201a8"
            ],
            [
             0.3333333333333333,
             "#9c179e"
            ],
            [
             0.4444444444444444,
             "#bd3786"
            ],
            [
             0.5555555555555556,
             "#d8576b"
            ],
            [
             0.6666666666666666,
             "#ed7953"
            ],
            [
             0.7777777777777778,
             "#fb9f3a"
            ],
            [
             0.8888888888888888,
             "#fdca26"
            ],
            [
             1,
             "#f0f921"
            ]
           ],
           "sequentialminus": [
            [
             0,
             "#0d0887"
            ],
            [
             0.1111111111111111,
             "#46039f"
            ],
            [
             0.2222222222222222,
             "#7201a8"
            ],
            [
             0.3333333333333333,
             "#9c179e"
            ],
            [
             0.4444444444444444,
             "#bd3786"
            ],
            [
             0.5555555555555556,
             "#d8576b"
            ],
            [
             0.6666666666666666,
             "#ed7953"
            ],
            [
             0.7777777777777778,
             "#fb9f3a"
            ],
            [
             0.8888888888888888,
             "#fdca26"
            ],
            [
             1,
             "#f0f921"
            ]
           ]
          },
          "colorway": [
           "#636efa",
           "#EF553B",
           "#00cc96",
           "#ab63fa",
           "#FFA15A",
           "#19d3f3",
           "#FF6692",
           "#B6E880",
           "#FF97FF",
           "#FECB52"
          ],
          "font": {
           "color": "#f2f5fa"
          },
          "geo": {
           "bgcolor": "rgb(17,17,17)",
           "lakecolor": "rgb(17,17,17)",
           "landcolor": "rgb(17,17,17)",
           "showlakes": true,
           "showland": true,
           "subunitcolor": "#506784"
          },
          "hoverlabel": {
           "align": "left"
          },
          "hovermode": "closest",
          "mapbox": {
           "style": "dark"
          },
          "paper_bgcolor": "rgb(17,17,17)",
          "plot_bgcolor": "rgb(17,17,17)",
          "polar": {
           "angularaxis": {
            "gridcolor": "#506784",
            "linecolor": "#506784",
            "ticks": ""
           },
           "bgcolor": "rgb(17,17,17)",
           "radialaxis": {
            "gridcolor": "#506784",
            "linecolor": "#506784",
            "ticks": ""
           }
          },
          "scene": {
           "xaxis": {
            "backgroundcolor": "rgb(17,17,17)",
            "gridcolor": "#506784",
            "gridwidth": 2,
            "linecolor": "#506784",
            "showbackground": true,
            "ticks": "",
            "zerolinecolor": "#C8D4E3"
           },
           "yaxis": {
            "backgroundcolor": "rgb(17,17,17)",
            "gridcolor": "#506784",
            "gridwidth": 2,
            "linecolor": "#506784",
            "showbackground": true,
            "ticks": "",
            "zerolinecolor": "#C8D4E3"
           },
           "zaxis": {
            "backgroundcolor": "rgb(17,17,17)",
            "gridcolor": "#506784",
            "gridwidth": 2,
            "linecolor": "#506784",
            "showbackground": true,
            "ticks": "",
            "zerolinecolor": "#C8D4E3"
           }
          },
          "shapedefaults": {
           "line": {
            "color": "#f2f5fa"
           }
          },
          "sliderdefaults": {
           "bgcolor": "#C8D4E3",
           "bordercolor": "rgb(17,17,17)",
           "borderwidth": 1,
           "tickwidth": 0
          },
          "ternary": {
           "aaxis": {
            "gridcolor": "#506784",
            "linecolor": "#506784",
            "ticks": ""
           },
           "baxis": {
            "gridcolor": "#506784",
            "linecolor": "#506784",
            "ticks": ""
           },
           "bgcolor": "rgb(17,17,17)",
           "caxis": {
            "gridcolor": "#506784",
            "linecolor": "#506784",
            "ticks": ""
           }
          },
          "title": {
           "x": 0.05
          },
          "updatemenudefaults": {
           "bgcolor": "#506784",
           "borderwidth": 0
          },
          "xaxis": {
           "automargin": true,
           "gridcolor": "#283442",
           "linecolor": "#506784",
           "ticks": "",
           "title": {
            "standoff": 15
           },
           "zerolinecolor": "#283442",
           "zerolinewidth": 2
          },
          "yaxis": {
           "automargin": true,
           "gridcolor": "#283442",
           "linecolor": "#506784",
           "ticks": "",
           "title": {
            "standoff": 15
           },
           "zerolinecolor": "#283442",
           "zerolinewidth": 2
          }
         }
        },
        "title": {
         "font": {
          "color": "white"
         },
         "text": "Cryptocurrency Prices",
         "x": 0.5
        }
       }
      },
      "text/html": [
       "<div>                            <div id=\"f0937553-9f58-409b-b599-8b51d03ead6a\" class=\"plotly-graph-div\" style=\"height:525px; width:100%;\"></div>            <script type=\"text/javascript\">                require([\"plotly\"], function(Plotly) {                    window.PLOTLYENV=window.PLOTLYENV || {};                                    if (document.getElementById(\"f0937553-9f58-409b-b599-8b51d03ead6a\")) {                    Plotly.newPlot(                        \"f0937553-9f58-409b-b599-8b51d03ead6a\",                        [{\"close\":[43577.54,43505.94,43648.02,44056.8,44213.54,44143.9,44039.83,44182.57,44219.11,44056.88,44081.12,43920.74,44012.22,44106.3,44011.44,44225.7,44583.52,44199.47,43992.21,44172.23,44021.07,44156.6,43949.5,44146.36,44236.88,44280.65,44268.73,44205.42,44257.15,44304.4,44083.3,44015.33,43723.98,43572.49,43601.75,43483.28,43599.52,43592.01,43485.77,42595.15,42548.71,42693.32,42249.98,42206.9,42137.03,42241.72,42595.92,42672.95,42598.78,42530.0,42510.67,42559.56,42129.03,42245.52,42075.74,42045.38,42337.26,42202.27,41789.15,41973.39,41931.06,41711.17,41689.59,42134.51,42074.99,42399.1,42235.9,42463.19,42055.77,41999.79,42287.04,42332.64,42584.73,42544.6,42531.79,42498.88,42497.09,42594.62,42335.95,42471.11,42432.09,42444.98,42293.1,42225.8,42243.08,42235.03,42257.43,42418.51,42244.97,42201.21,41898.11,42634.0,42675.12,42849.55,42753.14,42751.52,42136.79,42190.33,42117.45,42302.45],\"high\":[43692.79,43759.5,44203.0,44250.0,44301.13,44164.66,44272.05,44372.5,44242.0,44228.96,44172.4,44016.89,44199.79,44110.88,44233.6,44590.75,44785.66,44400.0,44204.5,44201.78,44171.63,44237.26,44192.79,44289.46,44328.8,44543.9,44357.49,44393.83,44476.21,44417.51,44135.86,44193.845,43809.5,43740.0,43647.96,43813.89,43692.29,43718.07,43649.99,42697.25,42838.9,42800.0,42314.74,42344.69,42313.18,42689.92,42829.5,42858.0,42686.36,42876.15,42708.58,42632.0,42297.7,42309.5,42248.0,42461.5,42388.11,42382.64,42028.13,41993.85,41990.78,41856.24,42167.31,42247.7,42421.0,42446.5,42543.6,42468.13,42210.64,42422.65,42334.79,42616.614,42784.0,42738.8,42603.92,42650.0,42674.96,42663.69,42489.06,42524.16,42488.0,42462.16,42340.7,42362.53,42323.43,42299.35,42515.02,42526.47,42285.13,42241.37,42652.42,42788.43,42912.03,43055.0,42837.95,42849.87,42236.56,42246.41,42367.33,42471.05],\"low\":[43447.71,43236.5,43540.2,43990.0,44135.69,43897.0,44000.01,44155.98,43959.84,44045.0,43913.0,43677.79,43982.68,43923.05,43956.0,44151.97,44112.0,43987.01,43948.04,43986.0,43976.5,43887.0,43864.89,44029.22,44127.76,44204.76,44021.3,44158.25,44129.0,43994.23,43866.5,43626.5,43541.37,43552.63,43383.0,43474.02,43521.4,43412.38,42533.88,42428.0,42533.41,42242.36,42112.98,42002.72,41800.0,42209.64,42506.04,42563.58,42340.49,42482.8,42395.23,41961.66,42084.35,41927.18,41947.21,42010.37,42124.31,41743.87,41761.5,41844.42,41621.0,41617.6,41554.626,41948.37,42025.882,42219.5,42215.0,41950.06,41887.0,41882.54,42086.53,42217.71,42514.5,42193.02,42416.94,42438.09,42477.2,42270.09,42296.29,42349.57,42313.91,42235.73,42141.35,42131.92,42167.31,42114.0,42216.16,42070.0,42084.37,41848.66,41733.5,42489.65,42618.91,42748.7,42577.51,42003.41,41843.57,41807.0,42075.8,42218.88],\"open\":[43509.12,43648.02,44061.56,44202.42,44143.89,44037.56,44182.57,44219.12,44058.08,44081.12,43926.7,44012.22,44103.13,44011.44,44233.6,44580.73,44199.47,43992.21,44167.12,44021.06,44155.51,43947.92,44146.36,44236.88,44280.65,44282.7,44205.42,44257.14,44302.64,44080.64,44012.91,43723.97,43571.5,43601.75,43483.3,43599.52,43594.18,43485.76,42595.14,42548.71,42696.67,42252.86,42198.55,42137.03,42245.28,42596.55,42672.96,42601.1,42530.0,42510.91,42564.37,42119.28,42238.54,42085.49,42042.26,42337.26,42202.28,41789.15,41974.6,41930.36,41711.16,41686.85,42132.91,42073.37,42394.66,42226.89,42464.63,42055.77,41999.79,42285.27,42332.65,42592.82,42551.17,42531.8,42498.88,42497.08,42610.1,42335.95,42471.1,42432.09,42444.98,42293.1,42224.11,42243.08,42235.03,42261.82,42418.51,42244.91,42201.21,41896.1,42640.82,42675.72,42849.54,42753.15,42757.5,42133.84,42182.05,42119.55,42300.0,42428.54],\"type\":\"candlestick\",\"x\":[\"2022-02-16T15:00:00.0000000Z\",\"2022-02-16T14:00:00.0000000Z\",\"2022-02-16T13:00:00.0000000Z\",\"2022-02-16T12:00:00.0000000Z\",\"2022-02-16T11:00:00.0000000Z\",\"2022-02-16T10:00:00.0000000Z\",\"2022-02-16T09:00:00.0000000Z\",\"2022-02-16T08:00:00.0000000Z\",\"2022-02-16T07:00:00.0000000Z\",\"2022-02-16T06:00:00.0000000Z\",\"2022-02-16T05:00:00.0000000Z\",\"2022-02-16T04:00:00.0000000Z\",\"2022-02-16T03:00:00.0000000Z\",\"2022-02-16T02:00:00.0000000Z\",\"2022-02-16T01:00:00.0000000Z\",\"2022-02-16T00:00:00.0000000Z\",\"2022-02-15T23:00:00.0000000Z\",\"2022-02-15T22:00:00.0000000Z\",\"2022-02-15T21:00:00.0000000Z\",\"2022-02-15T20:00:00.0000000Z\",\"2022-02-15T19:00:00.0000000Z\",\"2022-02-15T18:00:00.0000000Z\",\"2022-02-15T17:00:00.0000000Z\",\"2022-02-15T16:00:00.0000000Z\",\"2022-02-15T15:00:00.0000000Z\",\"2022-02-15T14:00:00.0000000Z\",\"2022-02-15T13:00:00.0000000Z\",\"2022-02-15T12:00:00.0000000Z\",\"2022-02-15T11:00:00.0000000Z\",\"2022-02-15T10:00:00.0000000Z\",\"2022-02-15T09:00:00.0000000Z\",\"2022-02-15T08:00:00.0000000Z\",\"2022-02-15T07:00:00.0000000Z\",\"2022-02-15T06:00:00.0000000Z\",\"2022-02-15T05:00:00.0000000Z\",\"2022-02-15T04:00:00.0000000Z\",\"2022-02-15T03:00:00.0000000Z\",\"2022-02-15T02:00:00.0000000Z\",\"2022-02-15T01:00:00.0000000Z\",\"2022-02-15T00:00:00.0000000Z\",\"2022-02-14T23:00:00.0000000Z\",\"2022-02-14T22:00:00.0000000Z\",\"2022-02-14T21:00:00.0000000Z\",\"2022-02-14T20:00:00.0000000Z\",\"2022-02-14T19:00:00.0000000Z\",\"2022-02-14T18:00:00.0000000Z\",\"2022-02-14T17:00:00.0000000Z\",\"2022-02-14T16:00:00.0000000Z\",\"2022-02-14T15:00:00.0000000Z\",\"2022-02-14T14:00:00.0000000Z\",\"2022-02-14T13:00:00.0000000Z\",\"2022-02-14T12:00:00.0000000Z\",\"2022-02-14T11:00:00.0000000Z\",\"2022-02-14T10:00:00.0000000Z\",\"2022-02-14T09:00:00.0000000Z\",\"2022-02-14T08:00:00.0000000Z\",\"2022-02-14T07:00:00.0000000Z\",\"2022-02-14T06:00:00.0000000Z\",\"2022-02-14T05:00:00.0000000Z\",\"2022-02-14T04:00:00.0000000Z\",\"2022-02-14T03:00:00.0000000Z\",\"2022-02-14T02:00:00.0000000Z\",\"2022-02-14T01:00:00.0000000Z\",\"2022-02-14T00:00:00.0000000Z\",\"2022-02-13T23:00:00.0000000Z\",\"2022-02-13T22:00:00.0000000Z\",\"2022-02-13T21:00:00.0000000Z\",\"2022-02-13T20:00:00.0000000Z\",\"2022-02-13T19:00:00.0000000Z\",\"2022-02-13T18:00:00.0000000Z\",\"2022-02-13T17:00:00.0000000Z\",\"2022-02-13T16:00:00.0000000Z\",\"2022-02-13T15:00:00.0000000Z\",\"2022-02-13T14:00:00.0000000Z\",\"2022-02-13T13:00:00.0000000Z\",\"2022-02-13T12:00:00.0000000Z\",\"2022-02-13T11:00:00.0000000Z\",\"2022-02-13T10:00:00.0000000Z\",\"2022-02-13T09:00:00.0000000Z\",\"2022-02-13T08:00:00.0000000Z\",\"2022-02-13T07:00:00.0000000Z\",\"2022-02-13T06:00:00.0000000Z\",\"2022-02-13T05:00:00.0000000Z\",\"2022-02-13T04:00:00.0000000Z\",\"2022-02-13T03:00:00.0000000Z\",\"2022-02-13T02:00:00.0000000Z\",\"2022-02-13T01:00:00.0000000Z\",\"2022-02-13T00:00:00.0000000Z\",\"2022-02-12T23:00:00.0000000Z\",\"2022-02-12T22:00:00.0000000Z\",\"2022-02-12T21:00:00.0000000Z\",\"2022-02-12T20:00:00.0000000Z\",\"2022-02-12T19:00:00.0000000Z\",\"2022-02-12T18:00:00.0000000Z\",\"2022-02-12T17:00:00.0000000Z\",\"2022-02-12T16:00:00.0000000Z\",\"2022-02-12T15:00:00.0000000Z\",\"2022-02-12T14:00:00.0000000Z\",\"2022-02-12T13:00:00.0000000Z\",\"2022-02-12T12:00:00.0000000Z\"]}],                        {\"autosize\":true,\"colorway\":[\"#5E0DAC\",\"#FF4F00\",\"#375CB1\",\"#FF7400\",\"#FFF400\",\"#FF0056\"],\"hovermode\":\"x\",\"margin\":{\"b\":15},\"paper_bgcolor\":\"rgba(0, 0, 0, 0)\",\"plot_bgcolor\":\"rgba(0, 0, 0, 0)\",\"template\":{\"data\":{\"bar\":[{\"error_x\":{\"color\":\"#f2f5fa\"},\"error_y\":{\"color\":\"#f2f5fa\"},\"marker\":{\"line\":{\"color\":\"rgb(17,17,17)\",\"width\":0.5},\"pattern\":{\"fillmode\":\"overlay\",\"size\":10,\"solidity\":0.2}},\"type\":\"bar\"}],\"barpolar\":[{\"marker\":{\"line\":{\"color\":\"rgb(17,17,17)\",\"width\":0.5},\"pattern\":{\"fillmode\":\"overlay\",\"size\":10,\"solidity\":0.2}},\"type\":\"barpolar\"}],\"carpet\":[{\"aaxis\":{\"endlinecolor\":\"#A2B1C6\",\"gridcolor\":\"#506784\",\"linecolor\":\"#506784\",\"minorgridcolor\":\"#506784\",\"startlinecolor\":\"#A2B1C6\"},\"baxis\":{\"endlinecolor\":\"#A2B1C6\",\"gridcolor\":\"#506784\",\"linecolor\":\"#506784\",\"minorgridcolor\":\"#506784\",\"startlinecolor\":\"#A2B1C6\"},\"type\":\"carpet\"}],\"choropleth\":[{\"colorbar\":{\"outlinewidth\":0,\"ticks\":\"\"},\"type\":\"choropleth\"}],\"contour\":[{\"colorbar\":{\"outlinewidth\":0,\"ticks\":\"\"},\"colorscale\":[[0.0,\"#0d0887\"],[0.1111111111111111,\"#46039f\"],[0.2222222222222222,\"#7201a8\"],[0.3333333333333333,\"#9c179e\"],[0.4444444444444444,\"#bd3786\"],[0.5555555555555556,\"#d8576b\"],[0.6666666666666666,\"#ed7953\"],[0.7777777777777778,\"#fb9f3a\"],[0.8888888888888888,\"#fdca26\"],[1.0,\"#f0f921\"]],\"type\":\"contour\"}],\"contourcarpet\":[{\"colorbar\":{\"outlinewidth\":0,\"ticks\":\"\"},\"type\":\"contourcarpet\"}],\"heatmap\":[{\"colorbar\":{\"outlinewidth\":0,\"ticks\":\"\"},\"colorscale\":[[0.0,\"#0d0887\"],[0.1111111111111111,\"#46039f\"],[0.2222222222222222,\"#7201a8\"],[0.3333333333333333,\"#9c179e\"],[0.4444444444444444,\"#bd3786\"],[0.5555555555555556,\"#d8576b\"],[0.6666666666666666,\"#ed7953\"],[0.7777777777777778,\"#fb9f3a\"],[0.8888888888888888,\"#fdca26\"],[1.0,\"#f0f921\"]],\"type\":\"heatmap\"}],\"heatmapgl\":[{\"colorbar\":{\"outlinewidth\":0,\"ticks\":\"\"},\"colorscale\":[[0.0,\"#0d0887\"],[0.1111111111111111,\"#46039f\"],[0.2222222222222222,\"#7201a8\"],[0.3333333333333333,\"#9c179e\"],[0.4444444444444444,\"#bd3786\"],[0.5555555555555556,\"#d8576b\"],[0.6666666666666666,\"#ed7953\"],[0.7777777777777778,\"#fb9f3a\"],[0.8888888888888888,\"#fdca26\"],[1.0,\"#f0f921\"]],\"type\":\"heatmapgl\"}],\"histogram\":[{\"marker\":{\"pattern\":{\"fillmode\":\"overlay\",\"size\":10,\"solidity\":0.2}},\"type\":\"histogram\"}],\"histogram2d\":[{\"colorbar\":{\"outlinewidth\":0,\"ticks\":\"\"},\"colorscale\":[[0.0,\"#0d0887\"],[0.1111111111111111,\"#46039f\"],[0.2222222222222222,\"#7201a8\"],[0.3333333333333333,\"#9c179e\"],[0.4444444444444444,\"#bd3786\"],[0.5555555555555556,\"#d8576b\"],[0.6666666666666666,\"#ed7953\"],[0.7777777777777778,\"#fb9f3a\"],[0.8888888888888888,\"#fdca26\"],[1.0,\"#f0f921\"]],\"type\":\"histogram2d\"}],\"histogram2dcontour\":[{\"colorbar\":{\"outlinewidth\":0,\"ticks\":\"\"},\"colorscale\":[[0.0,\"#0d0887\"],[0.1111111111111111,\"#46039f\"],[0.2222222222222222,\"#7201a8\"],[0.3333333333333333,\"#9c179e\"],[0.4444444444444444,\"#bd3786\"],[0.5555555555555556,\"#d8576b\"],[0.6666666666666666,\"#ed7953\"],[0.7777777777777778,\"#fb9f3a\"],[0.8888888888888888,\"#fdca26\"],[1.0,\"#f0f921\"]],\"type\":\"histogram2dcontour\"}],\"mesh3d\":[{\"colorbar\":{\"outlinewidth\":0,\"ticks\":\"\"},\"type\":\"mesh3d\"}],\"parcoords\":[{\"line\":{\"colorbar\":{\"outlinewidth\":0,\"ticks\":\"\"}},\"type\":\"parcoords\"}],\"pie\":[{\"automargin\":true,\"type\":\"pie\"}],\"scatter\":[{\"marker\":{\"line\":{\"color\":\"#283442\"}},\"type\":\"scatter\"}],\"scatter3d\":[{\"line\":{\"colorbar\":{\"outlinewidth\":0,\"ticks\":\"\"}},\"marker\":{\"colorbar\":{\"outlinewidth\":0,\"ticks\":\"\"}},\"type\":\"scatter3d\"}],\"scattercarpet\":[{\"marker\":{\"colorbar\":{\"outlinewidth\":0,\"ticks\":\"\"}},\"type\":\"scattercarpet\"}],\"scattergeo\":[{\"marker\":{\"colorbar\":{\"outlinewidth\":0,\"ticks\":\"\"}},\"type\":\"scattergeo\"}],\"scattergl\":[{\"marker\":{\"line\":{\"color\":\"#283442\"}},\"type\":\"scattergl\"}],\"scattermapbox\":[{\"marker\":{\"colorbar\":{\"outlinewidth\":0,\"ticks\":\"\"}},\"type\":\"scattermapbox\"}],\"scatterpolar\":[{\"marker\":{\"colorbar\":{\"outlinewidth\":0,\"ticks\":\"\"}},\"type\":\"scatterpolar\"}],\"scatterpolargl\":[{\"marker\":{\"colorbar\":{\"outlinewidth\":0,\"ticks\":\"\"}},\"type\":\"scatterpolargl\"}],\"scatterternary\":[{\"marker\":{\"colorbar\":{\"outlinewidth\":0,\"ticks\":\"\"}},\"type\":\"scatterternary\"}],\"surface\":[{\"colorbar\":{\"outlinewidth\":0,\"ticks\":\"\"},\"colorscale\":[[0.0,\"#0d0887\"],[0.1111111111111111,\"#46039f\"],[0.2222222222222222,\"#7201a8\"],[0.3333333333333333,\"#9c179e\"],[0.4444444444444444,\"#bd3786\"],[0.5555555555555556,\"#d8576b\"],[0.6666666666666666,\"#ed7953\"],[0.7777777777777778,\"#fb9f3a\"],[0.8888888888888888,\"#fdca26\"],[1.0,\"#f0f921\"]],\"type\":\"surface\"}],\"table\":[{\"cells\":{\"fill\":{\"color\":\"#506784\"},\"line\":{\"color\":\"rgb(17,17,17)\"}},\"header\":{\"fill\":{\"color\":\"#2a3f5f\"},\"line\":{\"color\":\"rgb(17,17,17)\"}},\"type\":\"table\"}]},\"layout\":{\"annotationdefaults\":{\"arrowcolor\":\"#f2f5fa\",\"arrowhead\":0,\"arrowwidth\":1},\"autotypenumbers\":\"strict\",\"coloraxis\":{\"colorbar\":{\"outlinewidth\":0,\"ticks\":\"\"}},\"colorscale\":{\"diverging\":[[0,\"#8e0152\"],[0.1,\"#c51b7d\"],[0.2,\"#de77ae\"],[0.3,\"#f1b6da\"],[0.4,\"#fde0ef\"],[0.5,\"#f7f7f7\"],[0.6,\"#e6f5d0\"],[0.7,\"#b8e186\"],[0.8,\"#7fbc41\"],[0.9,\"#4d9221\"],[1,\"#276419\"]],\"sequential\":[[0.0,\"#0d0887\"],[0.1111111111111111,\"#46039f\"],[0.2222222222222222,\"#7201a8\"],[0.3333333333333333,\"#9c179e\"],[0.4444444444444444,\"#bd3786\"],[0.5555555555555556,\"#d8576b\"],[0.6666666666666666,\"#ed7953\"],[0.7777777777777778,\"#fb9f3a\"],[0.8888888888888888,\"#fdca26\"],[1.0,\"#f0f921\"]],\"sequentialminus\":[[0.0,\"#0d0887\"],[0.1111111111111111,\"#46039f\"],[0.2222222222222222,\"#7201a8\"],[0.3333333333333333,\"#9c179e\"],[0.4444444444444444,\"#bd3786\"],[0.5555555555555556,\"#d8576b\"],[0.6666666666666666,\"#ed7953\"],[0.7777777777777778,\"#fb9f3a\"],[0.8888888888888888,\"#fdca26\"],[1.0,\"#f0f921\"]]},\"colorway\":[\"#636efa\",\"#EF553B\",\"#00cc96\",\"#ab63fa\",\"#FFA15A\",\"#19d3f3\",\"#FF6692\",\"#B6E880\",\"#FF97FF\",\"#FECB52\"],\"font\":{\"color\":\"#f2f5fa\"},\"geo\":{\"bgcolor\":\"rgb(17,17,17)\",\"lakecolor\":\"rgb(17,17,17)\",\"landcolor\":\"rgb(17,17,17)\",\"showlakes\":true,\"showland\":true,\"subunitcolor\":\"#506784\"},\"hoverlabel\":{\"align\":\"left\"},\"hovermode\":\"closest\",\"mapbox\":{\"style\":\"dark\"},\"paper_bgcolor\":\"rgb(17,17,17)\",\"plot_bgcolor\":\"rgb(17,17,17)\",\"polar\":{\"angularaxis\":{\"gridcolor\":\"#506784\",\"linecolor\":\"#506784\",\"ticks\":\"\"},\"bgcolor\":\"rgb(17,17,17)\",\"radialaxis\":{\"gridcolor\":\"#506784\",\"linecolor\":\"#506784\",\"ticks\":\"\"}},\"scene\":{\"xaxis\":{\"backgroundcolor\":\"rgb(17,17,17)\",\"gridcolor\":\"#506784\",\"gridwidth\":2,\"linecolor\":\"#506784\",\"showbackground\":true,\"ticks\":\"\",\"zerolinecolor\":\"#C8D4E3\"},\"yaxis\":{\"backgroundcolor\":\"rgb(17,17,17)\",\"gridcolor\":\"#506784\",\"gridwidth\":2,\"linecolor\":\"#506784\",\"showbackground\":true,\"ticks\":\"\",\"zerolinecolor\":\"#C8D4E3\"},\"zaxis\":{\"backgroundcolor\":\"rgb(17,17,17)\",\"gridcolor\":\"#506784\",\"gridwidth\":2,\"linecolor\":\"#506784\",\"showbackground\":true,\"ticks\":\"\",\"zerolinecolor\":\"#C8D4E3\"}},\"shapedefaults\":{\"line\":{\"color\":\"#f2f5fa\"}},\"sliderdefaults\":{\"bgcolor\":\"#C8D4E3\",\"bordercolor\":\"rgb(17,17,17)\",\"borderwidth\":1,\"tickwidth\":0},\"ternary\":{\"aaxis\":{\"gridcolor\":\"#506784\",\"linecolor\":\"#506784\",\"ticks\":\"\"},\"baxis\":{\"gridcolor\":\"#506784\",\"linecolor\":\"#506784\",\"ticks\":\"\"},\"bgcolor\":\"rgb(17,17,17)\",\"caxis\":{\"gridcolor\":\"#506784\",\"linecolor\":\"#506784\",\"ticks\":\"\"}},\"title\":{\"x\":0.05},\"updatemenudefaults\":{\"bgcolor\":\"#506784\",\"borderwidth\":0},\"xaxis\":{\"automargin\":true,\"gridcolor\":\"#283442\",\"linecolor\":\"#506784\",\"ticks\":\"\",\"title\":{\"standoff\":15},\"zerolinecolor\":\"#283442\",\"zerolinewidth\":2},\"yaxis\":{\"automargin\":true,\"gridcolor\":\"#283442\",\"linecolor\":\"#506784\",\"ticks\":\"\",\"title\":{\"standoff\":15},\"zerolinecolor\":\"#283442\",\"zerolinewidth\":2}}},\"title\":{\"font\":{\"color\":\"white\"},\"text\":\"Cryptocurrency Prices\",\"x\":0.5}},                        {\"responsive\": true}                    ).then(function(){\n",
       "                            \n",
       "var gd = document.getElementById('f0937553-9f58-409b-b599-8b51d03ead6a');\n",
       "var x = new MutationObserver(function (mutations, observer) {{\n",
       "        var display = window.getComputedStyle(gd).display;\n",
       "        if (!display || display === 'none') {{\n",
       "            console.log([gd, 'removed!']);\n",
       "            Plotly.purge(gd);\n",
       "            observer.disconnect();\n",
       "        }}\n",
       "}});\n",
       "\n",
       "// Listen for the removal of the full notebook cells\n",
       "var notebookContainer = gd.closest('#notebook-container');\n",
       "if (notebookContainer) {{\n",
       "    x.observe(notebookContainer, {childList: true});\n",
       "}}\n",
       "\n",
       "// Listen for the clearing of the current output cell\n",
       "var outputEl = gd.closest('.output');\n",
       "if (outputEl) {{\n",
       "    x.observe(outputEl, {childList: true});\n",
       "}}\n",
       "\n",
       "                        })                };                });            </script>        </div>"
      ]
     },
     "metadata": {},
     "output_type": "display_data"
    }
   ],
   "source": [
    "fig = go.Figure()\n",
    "fig.add_trace(go.Candlestick(x=df.time_period_start,\n",
    "                                         open=df.price_open,\n",
    "                                         high=df.price_high,\n",
    "                                         low=df.price_low,\n",
    "                                         close=df.price_close, )\n",
    "\n",
    "                    )\n",
    "\n",
    "fig.update_layout(colorway=[\"#5E0DAC\", '#FF4F00', '#375CB1', '#FF7400', '#FFF400', '#FF0056'], \n",
    "                  template='plotly_dark',\n",
    "                  paper_bgcolor='rgba(0, 0, 0, 0)',\n",
    "    plot_bgcolor='rgba(0, 0, 0, 0)',\n",
    "    margin={'b': 15},\n",
    "    hovermode='x',\n",
    "    autosize=True,\n",
    "    title={'text': 'Cryptocurrency Prices', 'font': {'color': 'white'}, 'x': 0.5},)\n",
    "\n",
    "fig.show()\n"
   ]
  },
  {
   "cell_type": "code",
   "execution_count": null,
   "metadata": {},
   "outputs": [],
   "source": []
  },
  {
   "cell_type": "raw",
   "metadata": {},
   "source": [
    " # currency=value\n",
    "    url = f'https://rest.coinapi.io/v1/ohlcv/{currency}/USD/latest?period_id={time_change}'\n",
    "    #apikey = '6B081E29-633F-4CDD-9743-9219FBE0709B'\n",
    "    apikey='60F4A03A-174B-4FC1-973D-D05364E6AEEB'\n",
    "    #60F4A03A-174B-4FC1-973D-D05364E6AEEB\n",
    "    headers = {'X-CoinAPI-Key': apikey}\n",
    "    response = requests.get(url, headers=headers)\n",
    "    data = json.loads(response.text)\n",
    "    df = pd.DataFrame(data)"
   ]
  },
  {
   "cell_type": "code",
   "execution_count": null,
   "metadata": {},
   "outputs": [],
   "source": []
  }
 ],
 "metadata": {
  "kernelspec": {
   "display_name": "Python 3",
   "language": "python",
   "name": "python3"
  },
  "language_info": {
   "codemirror_mode": {
    "name": "ipython",
    "version": 3
   },
   "file_extension": ".py",
   "mimetype": "text/x-python",
   "name": "python",
   "nbconvert_exporter": "python",
   "pygments_lexer": "ipython3",
   "version": "3.8.8"
  }
 },
 "nbformat": 4,
 "nbformat_minor": 4
}
